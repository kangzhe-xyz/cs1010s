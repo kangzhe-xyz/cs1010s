{
 "cells": [
  {
   "cell_type": "markdown",
   "metadata": {},
   "source": [
    "# Question 1: Mammals\n",
    "\n",
    "In this training, we will first attempt to model Mammals and the kind of sound that they make.\n",
    "\n",
    "Create a class Mammal, which represents a warm blooded animal. A Mammal will have a name, and will make a distinct sound.\n",
    "\n",
    "Your Mammal class should have the following properties:\n",
    "1. name: A str representing the name of the Mammal\n",
    "\n",
    "In addition, it should have the following methods:\n",
    "1. get_name(): Returns the name of the Mammal\n",
    "2. say(): Returns the distinct sound that the Mammal make. For now, this method will return a string in the following format: \"What does the `<name>` say\", where `<name>` is the name of the Mammal"
   ]
  },
  {
   "cell_type": "code",
   "execution_count": 4,
   "metadata": {},
   "outputs": [],
   "source": [
    "class Mammal(object):\n",
    "    def __init__(self, name):\n",
    "        self.name = name\n",
    "        \n",
    "    def get_name(self):\n",
    "        return self.name\n",
    "    \n",
    "    def say(self):\n",
    "        return f\"What does the { self.name } say\""
   ]
  },
  {
   "cell_type": "markdown",
   "metadata": {},
   "source": [
    "# Question 2: Mammalian Inheritance\n",
    "\n",
    "In order to create a Mammal, we will need to specify the name of the Mammal. This is cumbersome, and is prone to mistakes (we might accidentally create a 'Cet' instead of a 'Cat'). \n",
    "\n",
    "We can create subclasses of Mammal, whose constructor will call the Mammal's constructor with the correct name. As such, the constructor of the subclass should take in no parameters.\n",
    "\n",
    "Create the following subclass of Mammal:\n",
    "\n",
    "1. Dog, with the name \"Dog\"\n",
    "2. Cat, with the name \"Cat\"\n",
    "3. Fox, with the name \"Fox\"\n",
    "\n",
    "Reminder: Your subclass constructor should use super's constructor\n",
    "\n",
    "NOTE: You should only include the definition of the Dog, Cat and Fox classes and nothing else. In particular, DO NOT include the definition of the Mammal class in your code. We will be defining it and your code will fail some private test cases should you redefine the Mammal class."
   ]
  },
  {
   "cell_type": "code",
   "execution_count": 10,
   "metadata": {},
   "outputs": [
    {
     "data": {
      "text/plain": [
       "'Dog'"
      ]
     },
     "execution_count": 10,
     "metadata": {},
     "output_type": "execute_result"
    }
   ],
   "source": [
    "# You DO NOT NEED TO DEFINE Mammal class here!\n",
    "\n",
    "class Dog(Mammal):\n",
    "    def __init__(self):\n",
    "        super().__init__(\"Dog\")\n",
    "\n",
    "class Cat(Mammal):\n",
    "    def __init__(self):\n",
    "        super().__init__(\"Cat\")\n",
    "\n",
    "class Fox(Mammal):\n",
    "    def __init__(self):\n",
    "        super().__init__(\"Fox\")\n",
    "\n",
    "dog_instance = Dog()\n",
    "dog_instance.get_name()"
   ]
  }
 ],
 "metadata": {
  "kernelspec": {
   "display_name": "Python 3",
   "language": "python",
   "name": "python3"
  },
  "language_info": {
   "codemirror_mode": {
    "name": "ipython",
    "version": 3
   },
   "file_extension": ".py",
   "mimetype": "text/x-python",
   "name": "python",
   "nbconvert_exporter": "python",
   "pygments_lexer": "ipython3",
   "version": "3.11.6"
  }
 },
 "nbformat": 4,
 "nbformat_minor": 2
}
