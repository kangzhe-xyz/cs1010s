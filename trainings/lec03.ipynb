{
 "cells": [
  {
   "cell_type": "markdown",
   "metadata": {},
   "source": [
    "# Question 1\n",
    "This question should be done as code-tracing practice. Please trace the code manually before verifying the answers using IDLE.\n",
    "\n",
    "What will you see on IDLE if you evaluate the following code?"
   ]
  },
  {
   "cell_type": "code",
   "execution_count": 1,
   "metadata": {},
   "outputs": [
    {
     "name": "stdout",
     "output_type": "stream",
     "text": [
      "9 10\n"
     ]
    }
   ],
   "source": [
    "j = 0\n",
    "for i in range(10):\n",
    "    if i >= 9: break\n",
    "    if j == 8:\n",
    "        j = j + 2\n",
    "        continue\n",
    "    j = j + 1\n",
    "\n",
    "\n",
    "print(i, j)"
   ]
  },
  {
   "cell_type": "markdown",
   "metadata": {},
   "source": [
    "# Question 2: Sum of first n odd numbers - iterative for loop!!\n",
    "Using a `for` loop, write an iterative function `sum_odd_n` that computes the sum of the first n odd numbers, i.e. it returns $1 + 3 + 5 + .... + (2n - 1)$. You may assume that `n` is always a positive integer."
   ]
  },
  {
   "cell_type": "code",
   "execution_count": 2,
   "metadata": {},
   "outputs": [
    {
     "name": "stdout",
     "output_type": "stream",
     "text": [
      "True\n",
      "True\n",
      "True\n"
     ]
    }
   ],
   "source": [
    "def sum_odd_n(n):\n",
    "    x = 0\n",
    "    for i in range(1,2*n+1,2):\n",
    "        x += i\n",
    "    return x\n",
    "\n",
    "# Test Cases\n",
    "print(sum_odd_n(5) == 25)\n",
    "print(sum_odd_n(4) == 16)\n",
    "print(sum_odd_n(1) == 1)"
   ]
  },
  {
   "cell_type": "markdown",
   "metadata": {},
   "source": [
    "# Question 3: Sum of first n odd numbers - iterative while loop!!\n",
    "Using a `while` loop, write an iterative function `sum_odd_n` that computes the sum of the first n odd numbers, i.e. it returns $1 + 3 + 5 + .... + (2n - 1)$. You may assume that `n` is always a positive integer."
   ]
  },
  {
   "cell_type": "code",
   "execution_count": 3,
   "metadata": {},
   "outputs": [
    {
     "name": "stdout",
     "output_type": "stream",
     "text": [
      "True\n",
      "True\n",
      "True\n"
     ]
    }
   ],
   "source": [
    "def sum_odd_n(n):\n",
    "    x = 0\n",
    "    while n > 0:\n",
    "        x += 2*n - 1\n",
    "        n -= 1\n",
    "    return x\n",
    "\n",
    "# Test Cases\n",
    "print(sum_odd_n(5) == 25)\n",
    "print(sum_odd_n(4) == 16)\n",
    "print(sum_odd_n(1) == 1)"
   ]
  },
  {
   "cell_type": "markdown",
   "metadata": {},
   "source": [
    "# Question 4: Sum of first n odd numbers - recursive!\n",
    "Write a **recursive** function `sum_odd_n` that computes the sum of the first n odd numbers, i.e. it returns $1 + 3 + 5 + .... + (2n - 1)$. You may assume that `n` is always a positive integer."
   ]
  },
  {
   "cell_type": "code",
   "execution_count": 4,
   "metadata": {},
   "outputs": [
    {
     "name": "stdout",
     "output_type": "stream",
     "text": [
      "True\n",
      "True\n",
      "True\n"
     ]
    }
   ],
   "source": [
    "def sum_odd_n(n):\n",
    "    if n == 1:\n",
    "        return 1\n",
    "    else:\n",
    "        n = n - 1\n",
    "        return 2*(n+1) - 1 + sum_odd_n(n)\n",
    "\n",
    "# Test Cases\n",
    "print(sum_odd_n(5) == 25)\n",
    "print(sum_odd_n(4) == 16)\n",
    "print(sum_odd_n(1) == 1)"
   ]
  },
  {
   "cell_type": "markdown",
   "metadata": {},
   "source": [
    "# Question 5: Sum of first n squares - iterative for loop!!\n",
    "Complete the following function that uses a `for` loop to compute the sum of the squares of the first `n` numbers.\n",
    "```python\n",
    "def sum_n_squares(n):\n",
    "    result = 0\n",
    "    for counter in range(n + 1):\n",
    "       # Your code here   \n",
    "\n",
    "    return result\n",
    "```"
   ]
  },
  {
   "cell_type": "code",
   "execution_count": 5,
   "metadata": {},
   "outputs": [
    {
     "data": {
      "text/plain": [
       "55"
      ]
     },
     "execution_count": 5,
     "metadata": {},
     "output_type": "execute_result"
    }
   ],
   "source": [
    "def sum_n_squares(n):\n",
    "    result = 0\n",
    "    for counter in range(n+1):\n",
    "        result += counter ** 2\n",
    "\n",
    "    return result\n",
    "\n",
    "sum_n_squares(5)"
   ]
  },
  {
   "cell_type": "markdown",
   "metadata": {},
   "source": [
    "# Question 6: Sum of first n squares - iterative while loop!!\n",
    "Complete the following function that uses the `while` loop to compute the sum of the first `n` square numbers.\n",
    "```python\n",
    "def sum_n_squares(n):\n",
    "    counter, result = 1, 0\n",
    "    while counter <= n:\n",
    "\n",
    "        # Your code here\n",
    "        \n",
    "    return result\n",
    "```"
   ]
  },
  {
   "cell_type": "code",
   "execution_count": 6,
   "metadata": {},
   "outputs": [
    {
     "data": {
      "text/plain": [
       "55"
      ]
     },
     "execution_count": 6,
     "metadata": {},
     "output_type": "execute_result"
    }
   ],
   "source": [
    "def sum_n_squares(n):\n",
    "    counter, result = 1, 0\n",
    "    while counter <= n:\n",
    "        result += counter ** 2\n",
    "        counter += 1\n",
    "        \n",
    "    return result\n",
    "sum_n_squares(5)"
   ]
  },
  {
   "cell_type": "markdown",
   "metadata": {},
   "source": [
    "# Question 7: Sum of first n squares - recursive!\n",
    "Complete the following recursive function `sum_n_squares(n)` such that it will compute the sum of the first `n` square numbers, i.e. $1^2 + 2^2 + 3^2 + \\cdots + n^2$.\n",
    "```python\n",
    "def sum_n_squares(n):\n",
    "\n",
    "    # some code missing\n",
    "\n",
    "    return n ** 2 + sum_n_squares(n - 1)\n",
    "```"
   ]
  },
  {
   "cell_type": "code",
   "execution_count": 7,
   "metadata": {},
   "outputs": [
    {
     "data": {
      "text/plain": [
       "55"
      ]
     },
     "execution_count": 7,
     "metadata": {},
     "output_type": "execute_result"
    }
   ],
   "source": [
    "def sum_n_squares(n):\n",
    "\n",
    "    if n == 1:\n",
    "        return 1\n",
    "\n",
    "    return n ** 2 + sum_n_squares(n - 1)\n",
    "\n",
    "sum_n_squares(5)"
   ]
  },
  {
   "cell_type": "markdown",
   "metadata": {},
   "source": [
    "# Question 8\n",
    "This question should be done as code-tracing practice. Please trace the code manually before verifying the answers using IDLE.\n",
    "\n",
    "What is the output of the code shown below?"
   ]
  },
  {
   "cell_type": "code",
   "execution_count": 8,
   "metadata": {},
   "outputs": [
    {
     "name": "stdout",
     "output_type": "stream",
     "text": [
      "1\n",
      "9\n"
     ]
    }
   ],
   "source": [
    "x, y = 1, 9\n",
    "def foo(x, y):\n",
    "    while y > x:\n",
    "        y = y // 2\n",
    "        x = x + 1\n",
    "\n",
    "foo(x, y)\n",
    "\n",
    "print(x) # => ?\n",
    "print(y) # => ?"
   ]
  }
 ],
 "metadata": {
  "kernelspec": {
   "display_name": "Python 3",
   "language": "python",
   "name": "python3"
  },
  "language_info": {
   "codemirror_mode": {
    "name": "ipython",
    "version": 3
   },
   "file_extension": ".py",
   "mimetype": "text/x-python",
   "name": "python",
   "nbconvert_exporter": "python",
   "pygments_lexer": "ipython3",
   "version": "3.11.5"
  },
  "orig_nbformat": 4
 },
 "nbformat": 4,
 "nbformat_minor": 2
}
