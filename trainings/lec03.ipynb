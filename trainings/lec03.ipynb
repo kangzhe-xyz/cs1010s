{
 "cells": [
  {
   "cell_type": "markdown",
   "metadata": {},
   "source": [
    "# Question 1\n",
    "This question should be done as code-tracing practice. Please trace the code manually before verifying the answers using IDLE.\n",
    "\n",
    "What will you see on IDLE if you evaluate the following code?"
   ]
  },
  {
   "cell_type": "code",
   "execution_count": 1,
   "metadata": {},
   "outputs": [
    {
     "name": "stdout",
     "output_type": "stream",
     "text": [
      "9 10\n"
     ]
    }
   ],
   "source": [
    "j = 0\n",
    "for i in range(10):\n",
    "    if i >= 9: break\n",
    "    if j == 8:\n",
    "        j = j + 2\n",
    "        continue\n",
    "    j = j + 1\n",
    "\n",
    "\n",
    "print(i, j)"
   ]
  },
  {
   "cell_type": "markdown",
   "metadata": {},
   "source": [
    "# Question 2: Sum of first n odd numbers - iterative for loop!!\n",
    "Using a `for` loop, write an iterative function `sum_odd_n` that computes the sum of the first n odd numbers, i.e. it returns $1 + 3 + 5 + .... + (2n - 1)$. You may assume that `n` is always a positive integer."
   ]
  },
  {
   "cell_type": "code",
   "execution_count": 7,
   "metadata": {},
   "outputs": [
    {
     "name": "stdout",
     "output_type": "stream",
     "text": [
      "True\n",
      "True\n",
      "True\n"
     ]
    }
   ],
   "source": [
    "def sum_odd_n(n):\n",
    "    x = 0\n",
    "    for i in range(1,2*n+1,2):\n",
    "        x += i\n",
    "    return x\n",
    "\n",
    "# Test Cases\n",
    "print(sum_odd_n(5) == 25)\n",
    "print(sum_odd_n(4) == 16)\n",
    "print(sum_odd_n(1) == 1)"
   ]
  },
  {
   "cell_type": "markdown",
   "metadata": {},
   "source": [
    "# Question 3: Sum of first n odd numbers - iterative while loop!!\n",
    "Using a `while` loop, write an iterative function `sum_odd_n` that computes the sum of the first n odd numbers, i.e. it returns $1 + 3 + 5 + .... + (2n - 1)$. You may assume that `n` is always a positive integer."
   ]
  },
  {
   "cell_type": "code",
   "execution_count": 8,
   "metadata": {},
   "outputs": [
    {
     "name": "stdout",
     "output_type": "stream",
     "text": [
      "True\n",
      "True\n",
      "True\n"
     ]
    }
   ],
   "source": [
    "def sum_odd_n(n):\n",
    "    x = 0\n",
    "    while n > 0:\n",
    "        x += 2*n - 1\n",
    "        n -= 1\n",
    "    return x\n",
    "\n",
    "# Test Cases\n",
    "print(sum_odd_n(5) == 25)\n",
    "print(sum_odd_n(4) == 16)\n",
    "print(sum_odd_n(1) == 1)"
   ]
  },
  {
   "cell_type": "markdown",
   "metadata": {},
   "source": [
    "# Question 4: Sum of first n odd numbers - recursive!\n",
    "Write a **recursive** function `sum_odd_n` that computes the sum of the first n odd numbers, i.e. it returns $1 + 3 + 5 + .... + (2n - 1)$. You may assume that `n` is always a positive integer."
   ]
  },
  {
   "cell_type": "code",
   "execution_count": 14,
   "metadata": {},
   "outputs": [
    {
     "ename": "RecursionError",
     "evalue": "maximum recursion depth exceeded in comparison",
     "output_type": "error",
     "traceback": [
      "\u001b[0;31m---------------------------------------------------------------------------\u001b[0m",
      "\u001b[0;31mRecursionError\u001b[0m                            Traceback (most recent call last)",
      "Cell \u001b[0;32mIn[14], line 9\u001b[0m\n\u001b[1;32m      6\u001b[0m         \u001b[39mreturn\u001b[39;00m \u001b[39m2\u001b[39m\u001b[39m*\u001b[39mn \u001b[39m-\u001b[39m \u001b[39m1\u001b[39m \u001b[39m+\u001b[39m sum_odd_n(\u001b[39m2\u001b[39m\u001b[39m*\u001b[39m(n)\u001b[39m-\u001b[39m\u001b[39m1\u001b[39m)\n\u001b[1;32m      8\u001b[0m \u001b[39m# Test Cases\u001b[39;00m\n\u001b[0;32m----> 9\u001b[0m \u001b[39mprint\u001b[39m(sum_odd_n(\u001b[39m5\u001b[39;49m) \u001b[39m==\u001b[39m \u001b[39m25\u001b[39m)\n\u001b[1;32m     10\u001b[0m \u001b[39mprint\u001b[39m(sum_odd_n(\u001b[39m4\u001b[39m) \u001b[39m==\u001b[39m \u001b[39m16\u001b[39m)\n\u001b[1;32m     11\u001b[0m \u001b[39mprint\u001b[39m(sum_odd_n(\u001b[39m1\u001b[39m) \u001b[39m==\u001b[39m \u001b[39m1\u001b[39m)\n",
      "Cell \u001b[0;32mIn[14], line 6\u001b[0m, in \u001b[0;36msum_odd_n\u001b[0;34m(n)\u001b[0m\n\u001b[1;32m      4\u001b[0m \u001b[39melse\u001b[39;00m:\n\u001b[1;32m      5\u001b[0m     n \u001b[39m-\u001b[39m\u001b[39m=\u001b[39m \u001b[39m1\u001b[39m\n\u001b[0;32m----> 6\u001b[0m     \u001b[39mreturn\u001b[39;00m \u001b[39m2\u001b[39m\u001b[39m*\u001b[39mn \u001b[39m-\u001b[39m \u001b[39m1\u001b[39m \u001b[39m+\u001b[39m sum_odd_n(\u001b[39m2\u001b[39;49m\u001b[39m*\u001b[39;49m(n)\u001b[39m-\u001b[39;49m\u001b[39m1\u001b[39;49m)\n",
      "Cell \u001b[0;32mIn[14], line 6\u001b[0m, in \u001b[0;36msum_odd_n\u001b[0;34m(n)\u001b[0m\n\u001b[1;32m      4\u001b[0m \u001b[39melse\u001b[39;00m:\n\u001b[1;32m      5\u001b[0m     n \u001b[39m-\u001b[39m\u001b[39m=\u001b[39m \u001b[39m1\u001b[39m\n\u001b[0;32m----> 6\u001b[0m     \u001b[39mreturn\u001b[39;00m \u001b[39m2\u001b[39m\u001b[39m*\u001b[39mn \u001b[39m-\u001b[39m \u001b[39m1\u001b[39m \u001b[39m+\u001b[39m sum_odd_n(\u001b[39m2\u001b[39;49m\u001b[39m*\u001b[39;49m(n)\u001b[39m-\u001b[39;49m\u001b[39m1\u001b[39;49m)\n",
      "    \u001b[0;31m[... skipping similar frames: sum_odd_n at line 6 (2970 times)]\u001b[0m\n",
      "Cell \u001b[0;32mIn[14], line 6\u001b[0m, in \u001b[0;36msum_odd_n\u001b[0;34m(n)\u001b[0m\n\u001b[1;32m      4\u001b[0m \u001b[39melse\u001b[39;00m:\n\u001b[1;32m      5\u001b[0m     n \u001b[39m-\u001b[39m\u001b[39m=\u001b[39m \u001b[39m1\u001b[39m\n\u001b[0;32m----> 6\u001b[0m     \u001b[39mreturn\u001b[39;00m \u001b[39m2\u001b[39m\u001b[39m*\u001b[39mn \u001b[39m-\u001b[39m \u001b[39m1\u001b[39m \u001b[39m+\u001b[39m sum_odd_n(\u001b[39m2\u001b[39;49m\u001b[39m*\u001b[39;49m(n)\u001b[39m-\u001b[39;49m\u001b[39m1\u001b[39;49m)\n",
      "Cell \u001b[0;32mIn[14], line 2\u001b[0m, in \u001b[0;36msum_odd_n\u001b[0;34m(n)\u001b[0m\n\u001b[1;32m      1\u001b[0m \u001b[39mdef\u001b[39;00m \u001b[39msum_odd_n\u001b[39m(n):\n\u001b[0;32m----> 2\u001b[0m     \u001b[39mif\u001b[39;00m n \u001b[39m==\u001b[39;49m \u001b[39m0\u001b[39;49m:\n\u001b[1;32m      3\u001b[0m         \u001b[39mreturn\u001b[39;00m x\n\u001b[1;32m      4\u001b[0m     \u001b[39melse\u001b[39;00m:\n",
      "\u001b[0;31mRecursionError\u001b[0m: maximum recursion depth exceeded in comparison"
     ]
    }
   ],
   "source": [
    "def sum_odd_n(n):\n",
    "    n -= 1\n",
    "    if n == 0:\n",
    "        return x\n",
    "    else:\n",
    "        return 2*n - 1 + sum_odd_n(2*(n)-1)\n",
    "\n",
    "# Test Cases\n",
    "print(sum_odd_n(5) == 25)\n",
    "print(sum_odd_n(4) == 16)\n",
    "print(sum_odd_n(1) == 1)"
   ]
  }
 ],
 "metadata": {
  "kernelspec": {
   "display_name": "Python 3",
   "language": "python",
   "name": "python3"
  },
  "language_info": {
   "codemirror_mode": {
    "name": "ipython",
    "version": 3
   },
   "file_extension": ".py",
   "mimetype": "text/x-python",
   "name": "python",
   "nbconvert_exporter": "python",
   "pygments_lexer": "ipython3",
   "version": "3.11.5"
  },
  "orig_nbformat": 4
 },
 "nbformat": 4,
 "nbformat_minor": 2
}
