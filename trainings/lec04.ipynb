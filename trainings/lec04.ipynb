{
 "cells": [
  {
   "cell_type": "code",
   "execution_count": null,
   "metadata": {},
   "outputs": [],
   "source": [
    "def fold2(op, term, x, next, y, base): \n",
    "    if x > y:\n",
    "        return base\n",
    "    else:\n",
    "        return op(term(x), fold2(op, term, next(x), next, y, base))\n",
    "    \n",
    "def geometric_series(a, r, n):\n",
    "    return fold2(\n",
    "        lambda x, y: x + y,\n",
    "        lambda x: a * r ** (x),\n",
    "        1,\n",
    "        lambda x : x + 1,\n",
    "        n-1,\n",
    "        a\n",
    "    )\n",
    "\n",
    "geometric_series(1/2, 1/2, 3)"
   ]
  },
  {
   "cell_type": "code",
   "execution_count": null,
   "metadata": {},
   "outputs": [],
   "source": [
    "def geometric_series_2(a, r, n):\n",
    "    def term(x):\n",
    "        result = a*(r**(n))\n",
    "\n",
    "    def next(x):\n",
    "        return x + 1\n",
    "    \n",
    "    def op(x, y):\n",
    "        return x + y\n",
    "    \n",
    "    def base(x):\n",
    "        return x\n",
    "    \n",
    "    return fold2(\n",
    "        op,\n",
    "        term,\n",
    "        1,\n",
    "        next,\n",
    "        n-1,\n",
    "        base\n",
    "    )\n",
    "\n",
    "geometric_series_2(1/2, 1/2, 3)"
   ]
  },
  {
   "cell_type": "code",
   "execution_count": 25,
   "metadata": {},
   "outputs": [
    {
     "name": "stdout",
     "output_type": "stream",
     "text": [
      "1\n",
      "None\n",
      "3\n",
      "None 2 None\n"
     ]
    }
   ],
   "source": [
    "print(print(print(1)), (2), print(3,))\n",
    "#          ^ here first                => prints 1\n",
    "#    ^ then here, print(1) -> None so  => prints None\n",
    "#                           ^ now here => prints (3,)\n",
    "# finally evaluate everything,         => prints None 2 None"
   ]
  },
  {
   "cell_type": "code",
   "execution_count": 60,
   "metadata": {},
   "outputs": [
    {
     "name": "stdout",
     "output_type": "stream",
     "text": [
      "3712\n"
     ]
    }
   ],
   "source": [
    "import random as rd\n",
    "\n",
    "def generate_random_4d_number():\n",
    "    return int(rd.random() * 10000 // 1)\n",
    "\n",
    "print(generate_random_4d_number())"
   ]
  },
  {
   "cell_type": "markdown",
   "metadata": {},
   "source": [
    "# Question 11: Counting Combinations\n",
    "\n",
    "Recall the Counting Change problem in lecture. The problem of counting the number of ways m items can be picked from a set of n items can be solved by breaking the problem into two subproblems in a similar manner. Define a recursive function `num_combination(n, m)` that returns the number of ways m different items can be picked from a set of n distinct items.\n",
    "\n",
    "For example, there are 6 ways to choose 2 items from a set of 4 items.\n",
    "\n",
    "Hint: The possible ways that sets of m items can be formed may be divided into two groups: those that contain the first item in the set of n items and those that do not contain the first item in the set of n items.\n",
    "\n",
    "If your code works on IDLE but fails the public test cases on Coursemology, it could be due to a runtime error. This occurs when Coursemology takes too long to run finish your code, causing an error. To check whether this might be the issue, try evaluating num_combination(20,21) which should obviously be 0. If your code takes longer than an instant, then it is highly likely that a runtime error is the problem. "
   ]
  },
  {
   "cell_type": "code",
   "execution_count": 62,
   "metadata": {},
   "outputs": [],
   "source": [
    "def num_combination(n: int, m: int) -> int:\n",
    "    \"\"\"\n",
    "    Calculates number of ways to choose m items from a set of n distinct items\n",
    "    \"\"\"\n",
    "    return num_combination()"
   ]
  }
 ],
 "metadata": {
  "kernelspec": {
   "display_name": "Python 3",
   "language": "python",
   "name": "python3"
  },
  "language_info": {
   "codemirror_mode": {
    "name": "ipython",
    "version": 3
   },
   "file_extension": ".py",
   "mimetype": "text/x-python",
   "name": "python",
   "nbconvert_exporter": "python",
   "pygments_lexer": "ipython3",
   "version": "3.11.5"
  },
  "orig_nbformat": 4
 },
 "nbformat": 4,
 "nbformat_minor": 2
}
