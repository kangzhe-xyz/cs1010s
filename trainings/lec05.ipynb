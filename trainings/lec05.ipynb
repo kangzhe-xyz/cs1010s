{
 "cells": [
  {
   "cell_type": "markdown",
   "metadata": {},
   "source": [
    "# Question 11: Get student records\n",
    "\n",
    "Each student record is represented as a tuple and it consists of a student's matriculation number and name.\n",
    "\n",
    "Example: `('A0077294U', 'Shao Hong')`. \n",
    "\n",
    "In the database, there is a collection of student records, represented by a tuple of tuples. An example of such can be seen in the editor.\n",
    "\n",
    "Write a function `get_student_name` that returns the name of a student, when a student's matriculation number and the student records are passed into the function as arguments. The string `'Not found'` should be returned if the matric number does not match any of the records in the database."
   ]
  },
  {
   "cell_type": "code",
   "execution_count": 2,
   "metadata": {},
   "outputs": [
    {
     "data": {
      "text/plain": [
       "'Shaohong'"
      ]
     },
     "execution_count": 2,
     "metadata": {},
     "output_type": "execute_result"
    }
   ],
   "source": [
    "student_records = (('A0077294U', 'Shaohong'), ('A0084135B', 'Yang Shun'), ('A0015384U', 'Soda'), ('A0088245A', 'Alex'), ('A0012345A', 'Ben'))\n",
    "\n",
    "def get_student_name(matric_num, records):\n",
    "    for i in records:\n",
    "        if matric_num == i[0]:\n",
    "            return i[1]\n",
    "    return 'Not found'\n",
    "\n",
    "get_student_name('A0077294U', student_records)"
   ]
  },
  {
   "cell_type": "markdown",
   "metadata": {},
   "source": [
    "# Question 12\n",
    "\n",
    "Tuple is an immutable data type. It means that once created, the value inside a tuple cannot be changed. For example, if you have `t = (1, 2, 3)`, running `t[2] = 10` will give you a `TypeError`. If you want to change a particular value inside a tuple, you have to construct a new one.\n",
    "\n",
    "Now implement a function `change_value_at_index` that takes in three parameters: a tuple, an index, and a new value, and changes the value at the index to the new value. The function should return the modified tuple. If index is out of range, return the original tuple.\n",
    "\n",
    "Hint: Remember that tuple values can be accessed through negative indices! The valid range of indices for a tuple of length $n$ is $[-n, n)$."
   ]
  },
  {
   "cell_type": "code",
   "execution_count": 5,
   "metadata": {},
   "outputs": [
    {
     "data": {
      "text/plain": [
       "(1, 2, 3, 'huh', 5)"
      ]
     },
     "execution_count": 5,
     "metadata": {},
     "output_type": "execute_result"
    }
   ],
   "source": [
    "def change_value_at_index(tpl, index, value):\n",
    "    new_tpl = ()\n",
    "    if index < 0:\n",
    "        index = len(tpl) + index\n",
    "    for i in range(0, len(tpl)):\n",
    "        if i != index:\n",
    "            new_tpl += (tpl[i],)\n",
    "        else:\n",
    "            new_tpl += (value,)\n",
    "    return new_tpl\n",
    "\n",
    "change_value_at_index((1, 2, 3), 1, -1)\n",
    "change_value_at_index((1, 2, 3, 4, 5), -2, 'huh')"
   ]
  }
 ],
 "metadata": {
  "kernelspec": {
   "display_name": "Python 3",
   "language": "python",
   "name": "python3"
  },
  "language_info": {
   "codemirror_mode": {
    "name": "ipython",
    "version": 3
   },
   "file_extension": ".py",
   "mimetype": "text/x-python",
   "name": "python",
   "nbconvert_exporter": "python",
   "pygments_lexer": "ipython3",
   "version": "3.11.1"
  },
  "orig_nbformat": 4
 },
 "nbformat": 4,
 "nbformat_minor": 2
}
