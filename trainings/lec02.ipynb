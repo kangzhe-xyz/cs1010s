{
 "cells": [
  {
   "cell_type": "markdown",
   "metadata": {},
   "source": [
    "# Question 1: Write a function\n",
    "The variable `bar` is assigned the value of `10` when the following code is run:\n",
    "```python\n",
    "def foo():\n",
    "    return 5\n",
    "    \n",
    "bar = foo() + foo()\n",
    "```\n",
    "Update the definition of `foo` so that the value of `bar` is 20 when the above code is run. Do not change the definition of `bar`."
   ]
  },
  {
   "cell_type": "markdown",
   "metadata": {},
   "source": [
    "## Response\n",
    "`template.py`"
   ]
  },
  {
   "cell_type": "code",
   "execution_count": 12,
   "metadata": {},
   "outputs": [],
   "source": [
    "def foo():\n",
    "    return 10\n",
    "\n",
    "bar = foo() + foo()"
   ]
  },
  {
   "cell_type": "markdown",
   "metadata": {},
   "source": [
    "# Question 2\n",
    "Which of the following are valid function definition(s)? Select all that apply.\n",
    "```python\n",
    "# A\n",
    "def foo(a, b):\n",
    "    return a + a\n",
    "\n",
    "# B\n",
    "def foo():\n",
    "    return\n",
    "\n",
    "# C\n",
    "def foo:\n",
    "    return b\n",
    "\n",
    "# D\n",
    "define foo(a):\n",
    "    return a \n",
    "\n",
    "# E\n",
    "def foo(a, b, c):\n",
    "    a + b + c\n",
    "\n",
    "# F\n",
    "def foo(a)\n",
    "return a\n",
    "```\n"
   ]
  },
  {
   "cell_type": "markdown",
   "metadata": {},
   "source": [
    "## Response\n",
    "A, B, and E. "
   ]
  },
  {
   "cell_type": "markdown",
   "metadata": {},
   "source": [
    "# Question 3\n",
    "The `triple` function should return 3 * the argument of the function. However, the code below contains some error(s), so it does not behave as expected. Fix it."
   ]
  },
  {
   "cell_type": "markdown",
   "metadata": {},
   "source": [
    "## Response\n",
    "`template.py`"
   ]
  },
  {
   "cell_type": "code",
   "execution_count": 13,
   "metadata": {},
   "outputs": [],
   "source": [
    "def triple(amt):\n",
    "    return 3*amt"
   ]
  },
  {
   "cell_type": "markdown",
   "metadata": {},
   "source": [
    "# Question 4\n",
    "\n",
    "Which of the following is the correct output for the code snippet below?"
   ]
  },
  {
   "cell_type": "code",
   "execution_count": 14,
   "metadata": {},
   "outputs": [
    {
     "name": "stdout",
     "output_type": "stream",
     "text": [
      "-8\n"
     ]
    }
   ],
   "source": [
    "def square(x):\n",
    "    return x * x\n",
    "\n",
    "def double(x):\n",
    "    return x + x\n",
    "\n",
    "print(double(square(2)) - square(double(2)))"
   ]
  },
  {
   "cell_type": "markdown",
   "metadata": {},
   "source": [
    "# Question 5: Squared Difference\n",
    "We discussed the square function in the lecture. Using the square and mean functions provided, define a new function called variance that calculates the variance of two input parameters. Reuse the square and mean functions in your answer!\n",
    "The variance formula is as below: \n",
    "$${\\rm Var}(X) = {\\rm E}[X^2] - ({\\rm E}[X])^2.$$\n",
    "${\\rm E}[X]$ refers to the mean of numbers (2 of them for this question), and ${\\rm E}[X^2]$ refers to the mean of the numbers squared.\n",
    " \n",
    "**Note: This function is only applicable when computing the variance of two numbers, and you can assume that the inputs will be numbers.**\n",
    "\n",
    "For example `variance(1, 5)` and `variance(5, 1)` should both return `4.0`.\n"
   ]
  },
  {
   "cell_type": "markdown",
   "metadata": {},
   "source": [
    "## Response\n",
    "`template.py`"
   ]
  },
  {
   "cell_type": "code",
   "execution_count": 15,
   "metadata": {},
   "outputs": [
    {
     "name": "stdout",
     "output_type": "stream",
     "text": [
      "4.0\n"
     ]
    }
   ],
   "source": [
    "def square(x):\n",
    "    return x * x\n",
    "\n",
    "def mean(x, y):\n",
    "    return (x + y) / 2\n",
    "\n",
    "def variance(x, y):\n",
    "    return mean(square(x), square(y)) - square(mean(x,y))\n",
    "    pass\n",
    "\n",
    "print(variance(1,5))\n"
   ]
  },
  {
   "cell_type": "markdown",
   "metadata": {},
   "source": [
    "# Question 6\n",
    "Which of the following is the correct output for the code snippet below?"
   ]
  },
  {
   "cell_type": "code",
   "execution_count": 16,
   "metadata": {},
   "outputs": [
    {
     "name": "stdout",
     "output_type": "stream",
     "text": [
      "9 2 9\n"
     ]
    }
   ],
   "source": [
    "x = 2\n",
    "def square(x):\n",
    "    x = 3\n",
    "    return x * x\n",
    "\n",
    "print(square(x), x, square(5))"
   ]
  },
  {
   "cell_type": "markdown",
   "metadata": {},
   "source": [
    "# Question 7: Greetings\n",
    "Given the cosmopolitan society we live in, many of us speak several different languages.\n",
    "\n",
    "Here we will write a function named `greet`, that takes in a person's name and language, and **returns** a different greeting string depending on which language is given and includes the person's name behind it.\n",
    "\n",
    "**Note: Do not use the command `print` to print the greeting, `greet` should be return a string.**\n",
    "\n",
    "You are free to include additional languages but minimally, for grading purposes, please support the following 3 languages: English, Klingon and Elvish.\n",
    "\n",
    "For example, \n",
    "- `greet('Ben', 'English')` => 'Nice to meet you Ben'\n",
    "- `greet('Okrand', 'Klingon')` => 'nuqneH Okrand'\n",
    "- `greet('Elrond', 'Elvish')` => 'Gi suilon Elrond'"
   ]
  },
  {
   "cell_type": "code",
   "execution_count": 17,
   "metadata": {},
   "outputs": [],
   "source": [
    "def greet(name, language):\n",
    "    if (language == 'English'):\n",
    "        return(\"Nice to meet you \" + name)\n",
    "    elif (language == 'Klingon'):\n",
    "        return(\"nuqneH \" + name)\n",
    "    elif (language == 'Elvish'):\n",
    "        return(\"Gi suilon \" + name)"
   ]
  },
  {
   "cell_type": "markdown",
   "metadata": {},
   "source": [
    "# Question 8\n",
    "The function `area_rect(x, y)` returns the area of a rectangle of length `x` and breadth `y`. \n",
    "\n",
    "Define a function `area_square(a)` that:\n",
    "\n",
    "1. Returns the area of a square of length `a`. The `area_square` function should make use of the `area_rect` function. Thus, you do not need to know how the area of a rectangular is calculated.\n",
    "2. Returns `0` if the input parameter is not greater than 0.\n",
    "\n",
    "**Note: You do not have to define the `area_rect` function yourself. You simply have to call the function.**"
   ]
  },
  {
   "cell_type": "markdown",
   "metadata": {},
   "source": [
    "## Response\n",
    "`template.py`"
   ]
  },
  {
   "cell_type": "code",
   "execution_count": 18,
   "metadata": {},
   "outputs": [],
   "source": [
    "def area_rect(a,b):\n",
    "    return a*b\n",
    "\n",
    "def area_square(a):\n",
    "    if a >= 0:\n",
    "        return area_rect(a,a)\n",
    "    else:\n",
    "        return 0"
   ]
  },
  {
   "cell_type": "markdown",
   "metadata": {},
   "source": [
    "# Question 9: Code Reuse\n",
    "Note: In this question, 0 is considered to be neither a positive number nor negative number.\n",
    "\n",
    "You are to implement the following three functions with the following specifications:\n",
    " \n",
    "\n",
    "1. `is_odd(x)` returns True if the input parameter x is odd, False otherwise.\n",
    "2. `is_negative(x)` returns True if the input parameter x is negative, False otherwise.\n",
    "3. `is_even_and_positive(x)` returns True if the input parameter x is even AND positive, False otherwise.\n",
    "\n",
    "Bear in mind that you should try to reuse functions whenever possible!"
   ]
  },
  {
   "cell_type": "code",
   "execution_count": 2,
   "metadata": {},
   "outputs": [
    {
     "name": "stdout",
     "output_type": "stream",
     "text": [
      "False\n"
     ]
    }
   ],
   "source": [
    "def is_odd(x):\n",
    "    if (x % 2 != 0):\n",
    "        return True\n",
    "    else:\n",
    "        return False\n",
    "    \n",
    "def is_negative(x):\n",
    "    if (x < 0):\n",
    "        return True\n",
    "    elif (x == 0):\n",
    "        return False\n",
    "    else:\n",
    "        return False\n",
    "    \n",
    "def is_even_and_positive(x):\n",
    "    if (x != 0):\n",
    "        if (not is_odd(x) and not is_negative(x)):\n",
    "            return True\n",
    "        else: \n",
    "            return False\n",
    "    else:\n",
    "        return False\n",
    "    \n",
    "print(is_even_and_positive(0))"
   ]
  }
 ],
 "metadata": {
  "kernelspec": {
   "display_name": "Python 3",
   "language": "python",
   "name": "python3"
  },
  "language_info": {
   "codemirror_mode": {
    "name": "ipython",
    "version": 3
   },
   "file_extension": ".py",
   "mimetype": "text/x-python",
   "name": "python",
   "nbconvert_exporter": "python",
   "pygments_lexer": "ipython3",
   "version": "3.11.4"
  },
  "orig_nbformat": 4
 },
 "nbformat": 4,
 "nbformat_minor": 2
}
