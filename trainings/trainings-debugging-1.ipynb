{
 "cells": [
  {
   "cell_type": "markdown",
   "metadata": {},
   "source": [
    "# Question 1\n",
    "\n",
    "Yang Shun wants to swap the values of two variables `a` and `b`, each assigned to values `1` and `2` respectively. To do so, he implemented the following method:\n",
    " \n",
    "```python\n",
    "a = b\n",
    "b = a\n",
    "```\n",
    "\n",
    "\n",
    "However, when he printed the two variables, he realized that the values were not swapped.\n",
    " \n",
    "```python\n",
    "print(a) # => 2\n",
    "print(b) # => 2 \n",
    "```\n",
    "\n",
    "Please help him figure out what went wrong and fix it.\n"
   ]
  },
  {
   "cell_type": "markdown",
   "metadata": {},
   "source": [
    "## Response\n",
    "`template.py`"
   ]
  },
  {
   "cell_type": "code",
   "execution_count": 9,
   "metadata": {},
   "outputs": [
    {
     "name": "stdout",
     "output_type": "stream",
     "text": [
      "2 1\n"
     ]
    }
   ],
   "source": [
    "# initialize\n",
    "a = 1\n",
    "b = 2\n",
    "\n",
    "# fix the bug in swapping logic, don't write a = 2, b = 1 please\n",
    "c = a # let c be an intermediate variable, now c = 1\n",
    "a = b # now a = 2\n",
    "b = c # now b = 1\n",
    "\n",
    "print(a,b)"
   ]
  },
  {
   "cell_type": "markdown",
   "metadata": {},
   "source": [
    "# Traceback Errors\n",
    "This references the `debug1.py` file."
   ]
  },
  {
   "cell_type": "code",
   "execution_count": 10,
   "metadata": {},
   "outputs": [
    {
     "ename": "TypeError",
     "evalue": "p2() missing 1 required positional argument: 'w'",
     "output_type": "error",
     "traceback": [
      "\u001b[0;31m---------------------------------------------------------------------------\u001b[0m",
      "\u001b[0;31mTypeError\u001b[0m                                 Traceback (most recent call last)",
      "Cell \u001b[0;32mIn[10], line 10\u001b[0m\n\u001b[1;32m      7\u001b[0m \u001b[39mdef\u001b[39;00m \u001b[39mp3\u001b[39m(a, b):\n\u001b[1;32m      8\u001b[0m     \u001b[39mreturn\u001b[39;00m p2(a) \u001b[39m+\u001b[39m p2(b)\n\u001b[0;32m---> 10\u001b[0m p1(\u001b[39m1\u001b[39;49m,\u001b[39m2\u001b[39;49m)\n",
      "Cell \u001b[0;32mIn[10], line 2\u001b[0m, in \u001b[0;36mp1\u001b[0;34m(x, y)\u001b[0m\n\u001b[1;32m      1\u001b[0m \u001b[39mdef\u001b[39;00m \u001b[39mp1\u001b[39m(x, y):\n\u001b[0;32m----> 2\u001b[0m     \u001b[39mreturn\u001b[39;00m p2(x, y) \u001b[39m+\u001b[39m p3(x, y)\n",
      "Cell \u001b[0;32mIn[10], line 8\u001b[0m, in \u001b[0;36mp3\u001b[0;34m(a, b)\u001b[0m\n\u001b[1;32m      7\u001b[0m \u001b[39mdef\u001b[39;00m \u001b[39mp3\u001b[39m(a, b):\n\u001b[0;32m----> 8\u001b[0m     \u001b[39mreturn\u001b[39;00m p2(a) \u001b[39m+\u001b[39m p2(b)\n",
      "\u001b[0;31mTypeError\u001b[0m: p2() missing 1 required positional argument: 'w'"
     ]
    }
   ],
   "source": [
    "def p1(x, y):\n",
    "    return p2(x, y) + p3(x, y)\n",
    "\n",
    "def p2(z, w):\n",
    "    return z * w\n",
    "\n",
    "def p3(a, b):\n",
    "    return p2(a) + p2(b)\n",
    "\n",
    "p1(1,2)"
   ]
  },
  {
   "cell_type": "markdown",
   "metadata": {},
   "source": [
    "# Question 2\n",
    "\n",
    "Yichen wrote a simple tool in Python to check whether a year is a leap year. A year is a leap year if it's divisible by 400 or divisible by 4 but not 100. \n",
    "\n",
    "Here's his code:\n",
    "```python\n",
    "def divisible(value, divider):\n",
    "    if value % divider == 0:\n",
    "        return true\n",
    "    else:\n",
    "        return false\n",
    "\n",
    "def test_leap_year(year):\n",
    "    if divisible(year, 400):\n",
    "        return 'Leap year!'\n",
    "    elif divisible(year, 4) and not divisible(year, 100):\n",
    "        return 'Leap year!'\n",
    "    else:\n",
    "        return 'Not a leap year!'\n",
    "```\n",
    "\n",
    "However, he got an error when he ran it in IDLE. Find the error based on the error message, and help him correct the code so that it passes all test cases below.\n"
   ]
  },
  {
   "cell_type": "markdown",
   "metadata": {},
   "source": [
    "## Response\n",
    "`template.py`"
   ]
  },
  {
   "cell_type": "code",
   "execution_count": 12,
   "metadata": {},
   "outputs": [
    {
     "name": "stdout",
     "output_type": "stream",
     "text": [
      "Leap year!\n",
      "Leap year!\n",
      "Not a leap year!\n",
      "Not a leap year!\n"
     ]
    }
   ],
   "source": [
    "# Modify the code below and make it work:\n",
    "def divisible(value, divider):\n",
    "    if value % divider == 0:\n",
    "        return True\n",
    "    else:\n",
    "        return False\n",
    "\n",
    "def test_leap_year(year):\n",
    "    if divisible(year, 400):\n",
    "        return 'Leap year!'\n",
    "    elif divisible(year, 4) and not divisible(year, 100):\n",
    "        return 'Leap year!'\n",
    "    else:\n",
    "        return 'Not a leap year!'\n",
    "    \n",
    "testCases = [2004,1904,1000,2014]\n",
    "\n",
    "for i in testCases:\n",
    "    print(test_leap_year(i))\n"
   ]
  },
  {
   "cell_type": "markdown",
   "metadata": {},
   "source": [
    "# Question 3\n",
    "Yichen was very happy to see his code fixed. Jingchuan saw his code and he told him that it could be simplified. Since the `==` operator returns a boolean value, why not make it inline with boolean operators?\n",
    "\n",
    "They worked out another version as below. The logic is that a leap year is either a year that is divisible by 400 or a year that is not divisible by 100 if it's divisible by 4.\n",
    "\n",
    "This time they didn't get any error. But their code fails to produce the correct result occasionally. Again, be a hero and help them fix the code."
   ]
  },
  {
   "cell_type": "markdown",
   "metadata": {},
   "source": [
    "## Response\n",
    "`template.py`"
   ]
  },
  {
   "cell_type": "code",
   "execution_count": 16,
   "metadata": {},
   "outputs": [
    {
     "name": "stdout",
     "output_type": "stream",
     "text": [
      "Leap year!\n",
      "Leap year!\n",
      "Not a leap year!\n",
      "Not a leap year!\n",
      "Leap year!\n",
      "Not a leap year!\n",
      "Not a leap year!\n"
     ]
    }
   ],
   "source": [
    "def test_leap_year(year):\n",
    "    if year % 400 == 0 or (year % 4 == 0 and year % 100 != 0):\n",
    "        return 'Leap year!'\n",
    "    else:\n",
    "        return 'Not a leap year!'\n",
    "\n",
    "# Test\n",
    "a = [2004,1904,1000,2014,1600,1700,1800]\n",
    "\n",
    "for i in a:\n",
    "    print(test_leap_year(i))"
   ]
  }
 ],
 "metadata": {
  "kernelspec": {
   "display_name": "Python 3",
   "language": "python",
   "name": "python3"
  },
  "language_info": {
   "codemirror_mode": {
    "name": "ipython",
    "version": 3
   },
   "file_extension": ".py",
   "mimetype": "text/x-python",
   "name": "python",
   "nbconvert_exporter": "python",
   "pygments_lexer": "ipython3",
   "version": "3.11.4"
  },
  "orig_nbformat": 4
 },
 "nbformat": 4,
 "nbformat_minor": 2
}
