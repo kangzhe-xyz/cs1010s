{
 "cells": [
  {
   "cell_type": "code",
   "execution_count": null,
   "metadata": {},
   "outputs": [],
   "source": [
    "x = 0\n",
    "def f():\n",
    "  x = 1\n",
    "x = 2"
   ]
  },
  {
   "cell_type": "code",
   "execution_count": null,
   "metadata": {},
   "outputs": [],
   "source": [
    "def g(z, x, y):\n",
    "    return x * y - z\n",
    "\n",
    "print(g(1,2,3))"
   ]
  },
  {
   "cell_type": "code",
   "execution_count": null,
   "metadata": {},
   "outputs": [],
   "source": [
    "def f(s):\n",
    "    return 1010 - s\n",
    "f(10 - f(20))"
   ]
  },
  {
   "cell_type": "code",
   "execution_count": null,
   "metadata": {},
   "outputs": [],
   "source": [
    "def ip_format(ip_address):\n",
    "    ip_addr_string = \"\"\n",
    "    for i in range(0,4):\n",
    "        tally = 0\n",
    "        for j in range(0,8):\n",
    "            print(i*8+j)\n",
    "            tally += int(ip_address[i*8+j]) * 2**(8-j-1)\n",
    "            print(tally)\n",
    "        ip_addr_string = ip_addr_string + str(tally)\n",
    "        if i < 3:\n",
    "            ip_addr_string += \".\"\n",
    "        else:\n",
    "            return ip_addr_string\n",
    "    pass\n",
    "\n",
    "ip_format('00000011100000001111111111111111')"
   ]
  },
  {
   "cell_type": "code",
   "execution_count": null,
   "metadata": {},
   "outputs": [],
   "source": [
    "from math import sqrt\n",
    "def get_bigger_root(a, b, c):\n",
    "    def sqrt_disc(d, e, f):\n",
    "        return sqrt(e**2 - (4 * d * f))\n",
    "    root_1 = (-1 * b + sqrt_disc(a,b,c))/(2*a)\n",
    "    root_2 = (-1 * b - sqrt_disc(a,b,c))/(2*a)\n",
    "    print(root_1)\n",
    "    print(root_2)\n",
    "    return round(max(root_1, root_2),2)\n",
    "\n",
    "get_bigger_root(1,-8,15)"
   ]
  },
  {
   "cell_type": "code",
   "execution_count": null,
   "metadata": {},
   "outputs": [],
   "source": [
    "1234//10000"
   ]
  },
  {
   "cell_type": "code",
   "execution_count": null,
   "metadata": {},
   "outputs": [],
   "source": [
    "def is_sum_odd(num):\n",
    "    i = 0\n",
    "    sum = 0\n",
    "    digits = []\n",
    "    def no_of_digits(num):\n",
    "        k = 0\n",
    "        while num > 0:\n",
    "            print(num)\n",
    "            num -= num // (10**k)\n",
    "            print(num)\n",
    "            k += 1\n",
    "        return k\n",
    "    count_digits = no_of_digits(num)\n",
    "    print(count_digits)\n",
    "    for i in range(0,count_digits):\n",
    "        x = num // (10**(count_digits-i))\n",
    "        digits.append(x/(10**(count_digits - i)))\n",
    "        num -= x\n",
    "    for j in range(0,len(digits)):\n",
    "        sum += digits[j]\n",
    "    print(sum)\n",
    "    print(digits)\n",
    "    if (sum % 2 != 0):\n",
    "        return True\n",
    "    else:\n",
    "        return False\n",
    "\n",
    "\n",
    "is_sum_odd(123789)"
   ]
  },
  {
   "cell_type": "code",
   "execution_count": null,
   "metadata": {},
   "outputs": [],
   "source": [
    "print(12345//10000)"
   ]
  },
  {
   "cell_type": "code",
   "execution_count": 6,
   "metadata": {},
   "outputs": [
    {
     "name": "stdout",
     "output_type": "stream",
     "text": [
      "10\n",
      "11\n",
      "12\n",
      "13\n",
      "done\n"
     ]
    }
   ],
   "source": [
    "for i in range(4):\n",
    "   if i == 10:\n",
    "       print(\"ouch\")\n",
    "       break\n",
    "   i = i + 10\n",
    "   print(i)\n",
    "print(\"done\")"
   ]
  },
  {
   "cell_type": "code",
   "execution_count": 7,
   "metadata": {},
   "outputs": [
    {
     "name": "stdout",
     "output_type": "stream",
     "text": [
      "5\n",
      "1\n",
      "3\n",
      "-1\n",
      "0\n"
     ]
    }
   ],
   "source": [
    "b = 3\n",
    "def fun(b):\n",
    "   b = b + 1\n",
    "   print(b)\n",
    "   if b < 1:\n",
    "       return 0\n",
    "   else:\n",
    "       return not_fun(b - 1)\n",
    "   \n",
    "   \n",
    "def not_fun(a):\n",
    "   a = a - b\n",
    "   print(a)\n",
    "   if a < 0:\n",
    "       return 0\n",
    "   else:\n",
    "       return fun(a + 1)\n",
    "print(fun(4))"
   ]
  }
 ],
 "metadata": {
  "kernelspec": {
   "display_name": "Python 3",
   "language": "python",
   "name": "python3"
  },
  "language_info": {
   "codemirror_mode": {
    "name": "ipython",
    "version": 3
   },
   "file_extension": ".py",
   "mimetype": "text/x-python",
   "name": "python",
   "nbconvert_exporter": "python",
   "pygments_lexer": "ipython3",
   "version": "3.11.5"
  },
  "orig_nbformat": 4
 },
 "nbformat": 4,
 "nbformat_minor": 2
}
