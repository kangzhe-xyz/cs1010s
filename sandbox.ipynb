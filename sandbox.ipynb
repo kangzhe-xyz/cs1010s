{
 "cells": [
  {
   "cell_type": "code",
   "execution_count": null,
   "metadata": {},
   "outputs": [],
   "source": [
    "x = 0\n",
    "def f():\n",
    "  x = 1\n",
    "x = 2"
   ]
  },
  {
   "cell_type": "code",
   "execution_count": null,
   "metadata": {},
   "outputs": [],
   "source": [
    "def g(z, x, y):\n",
    "    return x * y - z\n",
    "\n",
    "print(g(1,2,3))"
   ]
  },
  {
   "cell_type": "code",
   "execution_count": null,
   "metadata": {},
   "outputs": [],
   "source": [
    "def f(s):\n",
    "    return 1010 - s\n",
    "f(10 - f(20))"
   ]
  },
  {
   "cell_type": "code",
   "execution_count": null,
   "metadata": {},
   "outputs": [],
   "source": [
    "def ip_format(ip_address):\n",
    "    ip_addr_string = \"\"\n",
    "    for i in range(0,4):\n",
    "        tally = 0\n",
    "        for j in range(0,8):\n",
    "            print(i*8+j)\n",
    "            tally += int(ip_address[i*8+j]) * 2**(8-j-1)\n",
    "            print(tally)\n",
    "        ip_addr_string = ip_addr_string + str(tally)\n",
    "        if i < 3:\n",
    "            ip_addr_string += \".\"\n",
    "        else:\n",
    "            return ip_addr_string\n",
    "    pass\n",
    "\n",
    "ip_format('00000011100000001111111111111111')"
   ]
  },
  {
   "cell_type": "code",
   "execution_count": null,
   "metadata": {},
   "outputs": [],
   "source": [
    "from math import sqrt\n",
    "def get_bigger_root(a, b, c):\n",
    "    def sqrt_disc(d, e, f):\n",
    "        return sqrt(e**2 - (4 * d * f))\n",
    "    root_1 = (-1 * b + sqrt_disc(a,b,c))/(2*a)\n",
    "    root_2 = (-1 * b - sqrt_disc(a,b,c))/(2*a)\n",
    "    print(root_1)\n",
    "    print(root_2)\n",
    "    return round(max(root_1, root_2),2)\n",
    "\n",
    "get_bigger_root(1,-8,15)"
   ]
  },
  {
   "cell_type": "code",
   "execution_count": null,
   "metadata": {},
   "outputs": [],
   "source": [
    "1234//10000"
   ]
  },
  {
   "cell_type": "code",
   "execution_count": null,
   "metadata": {},
   "outputs": [],
   "source": [
    "def is_sum_odd(num):\n",
    "    i = 0\n",
    "    sum = 0\n",
    "    digits = []\n",
    "    def no_of_digits(num):\n",
    "        k = 0\n",
    "        while num > 0:\n",
    "            print(num)\n",
    "            num -= num // (10**k)\n",
    "            print(num)\n",
    "            k += 1\n",
    "        return k\n",
    "    count_digits = no_of_digits(num)\n",
    "    print(count_digits)\n",
    "    for i in range(0,count_digits):\n",
    "        x = num // (10**(count_digits-i))\n",
    "        digits.append(x/(10**(count_digits - i)))\n",
    "        num -= x\n",
    "    for j in range(0,len(digits)):\n",
    "        sum += digits[j]\n",
    "    print(sum)\n",
    "    print(digits)\n",
    "    if (sum % 2 != 0):\n",
    "        return True\n",
    "    else:\n",
    "        return False\n",
    "\n",
    "\n",
    "is_sum_odd(123789)"
   ]
  },
  {
   "cell_type": "code",
   "execution_count": null,
   "metadata": {},
   "outputs": [],
   "source": [
    "print(12345//10000)"
   ]
  },
  {
   "cell_type": "code",
   "execution_count": 6,
   "metadata": {},
   "outputs": [
    {
     "name": "stdout",
     "output_type": "stream",
     "text": [
      "10\n",
      "11\n",
      "12\n",
      "13\n",
      "done\n"
     ]
    }
   ],
   "source": [
    "for i in range(4):\n",
    "   if i == 10:\n",
    "       print(\"ouch\")\n",
    "       break\n",
    "   i = i + 10\n",
    "   print(i)\n",
    "print(\"done\")"
   ]
  },
  {
   "cell_type": "code",
   "execution_count": 7,
   "metadata": {},
   "outputs": [
    {
     "name": "stdout",
     "output_type": "stream",
     "text": [
      "5\n",
      "1\n",
      "3\n",
      "-1\n",
      "0\n"
     ]
    }
   ],
   "source": [
    "b = 3\n",
    "def fun(b):\n",
    "   b = b + 1\n",
    "   print(b)\n",
    "   if b < 1:\n",
    "       return 0\n",
    "   else:\n",
    "       return not_fun(b - 1)\n",
    "   \n",
    "   \n",
    "def not_fun(a):\n",
    "   a = a - b\n",
    "   print(a)\n",
    "   if a < 0:\n",
    "       return 0\n",
    "   else:\n",
    "       return fun(a + 1)\n",
    "print(fun(4))"
   ]
  },
  {
   "cell_type": "code",
   "execution_count": 3,
   "metadata": {},
   "outputs": [
    {
     "name": "stdout",
     "output_type": "stream",
     "text": [
      "(1, 2)\n",
      "2\n"
     ]
    }
   ],
   "source": [
    "def make_rat(n: int, d: int) -> (int, int):\n",
    "    return (n, d)\n",
    "\n",
    "def denom(rat: (int, int)) -> int:\n",
    "    return(rat[1])\n",
    "\n",
    "x = make_rat(1, 2)\n",
    "print(x)\n",
    "print(denom(x))"
   ]
  },
  {
   "cell_type": "code",
   "execution_count": 22,
   "metadata": {},
   "outputs": [
    {
     "ename": "IndexError",
     "evalue": "tuple index out of range",
     "output_type": "error",
     "traceback": [
      "\u001b[0;31m---------------------------------------------------------------------------\u001b[0m",
      "\u001b[0;31mIndexError\u001b[0m                                Traceback (most recent call last)",
      "\u001b[1;32m/Users/kangzhe/Documents/y1s1/cs1010s/sandbox.ipynb Cell 12\u001b[0m line \u001b[0;36m2\n\u001b[1;32m      <a href='vscode-notebook-cell:/Users/kangzhe/Documents/y1s1/cs1010s/sandbox.ipynb#X14sZmlsZQ%3D%3D?line=0'>1</a>\u001b[0m abc \u001b[39m=\u001b[39m ((\u001b[39m1\u001b[39m, \u001b[39m\"\u001b[39m\u001b[39m2\u001b[39m\u001b[39m\"\u001b[39m), ((\u001b[39m3\u001b[39m,), \u001b[39m4\u001b[39m)) \n\u001b[0;32m----> <a href='vscode-notebook-cell:/Users/kangzhe/Documents/y1s1/cs1010s/sandbox.ipynb#X14sZmlsZQ%3D%3D?line=1'>2</a>\u001b[0m abc[\u001b[39m2\u001b[39;49m]\n",
      "\u001b[0;31mIndexError\u001b[0m: tuple index out of range"
     ]
    }
   ],
   "source": [
    "abc = ((1, \"2\"), ((3,), 4)) \n",
    "abc[2]"
   ]
  },
  {
   "cell_type": "code",
   "execution_count": 24,
   "metadata": {},
   "outputs": [
    {
     "data": {
      "text/plain": [
       "()"
      ]
     },
     "execution_count": 24,
     "metadata": {},
     "output_type": "execute_result"
    }
   ],
   "source": [
    "a = (1, 2, 3, 4)\n",
    "a[-2:0:1]"
   ]
  },
  {
   "cell_type": "code",
   "execution_count": 13,
   "metadata": {},
   "outputs": [
    {
     "data": {
      "text/plain": [
       "False"
      ]
     },
     "execution_count": 13,
     "metadata": {},
     "output_type": "execute_result"
    }
   ],
   "source": [
    "x = (1, (2, 3), (4, \"5\", (6,), 7), \"8\", (9,))\n",
    "(6,) in x"
   ]
  },
  {
   "cell_type": "code",
   "execution_count": 18,
   "metadata": {},
   "outputs": [
    {
     "data": {
      "text/plain": [
       "(3, 7)"
      ]
     },
     "execution_count": 18,
     "metadata": {},
     "output_type": "execute_result"
    }
   ],
   "source": [
    "x = 2\n",
    "y = 3.0\n",
    "z = \"CS1010S\"\n",
    "def f(x, y, z):\n",
    "    return x\n",
    "\n",
    "(1 + 2,) + (3 + 4,)"
   ]
  },
  {
   "cell_type": "code",
   "execution_count": 25,
   "metadata": {},
   "outputs": [
    {
     "data": {
      "text/plain": [
       "False"
      ]
     },
     "execution_count": 25,
     "metadata": {},
     "output_type": "execute_result"
    }
   ],
   "source": [
    "y = ()\n",
    "x = (1,2,3,4)\n",
    "# x[3] += 2\n",
    "y = (x[1] + x[2])\n",
    "y += 10\n",
    "(1,2,3) in x"
   ]
  },
  {
   "cell_type": "code",
   "execution_count": 1,
   "metadata": {},
   "outputs": [
    {
     "data": {
      "text/plain": [
       "3"
      ]
     },
     "execution_count": 1,
     "metadata": {},
     "output_type": "execute_result"
    }
   ],
   "source": [
    "[1, [2, 1], 1, [3, [1, 3]], [4, [1], 5], [1], 1, [[1]]].count(1)"
   ]
  },
  {
   "cell_type": "code",
   "execution_count": 2,
   "metadata": {},
   "outputs": [],
   "source": [
    "def pop_at_index(seq, index):\n",
    "    the_list = list(seq)\n",
    "    try:\n",
    "        the_list.pop(index)\n",
    "        return tuple(the_list)\n",
    "    except:\n",
    "        return seq"
   ]
  },
  {
   "cell_type": "code",
   "execution_count": 3,
   "metadata": {},
   "outputs": [
    {
     "name": "stdout",
     "output_type": "stream",
     "text": [
      "True\n",
      "False\n"
     ]
    }
   ],
   "source": [
    "list1 = [1] * 4\n",
    "list2 = [5, 5, 5]\n",
    "while not 0:\n",
    "    list1[0] += 1\n",
    "    if list1[0] == 5: \n",
    "         break\n",
    "         list1[1] += 2\n",
    "    list1[2] += 3\n",
    "\n",
    "print(list1 < list2)\n",
    "print(list2 == (5, 5, 5))"
   ]
  },
  {
   "cell_type": "code",
   "execution_count": 5,
   "metadata": {},
   "outputs": [
    {
     "data": {
      "text/plain": [
       "[1, 5, 3, 2]"
      ]
     },
     "execution_count": 5,
     "metadata": {},
     "output_type": "execute_result"
    }
   ],
   "source": [
    "def remove_extras(lst):\n",
    "    res = []\n",
    "    for i in lst:\n",
    "        if i in res:\n",
    "            continue\n",
    "        else:\n",
    "            res += [i]\n",
    "    return res\n",
    "\n",
    "remove_extras([1, 5, 1, 1, 3, 2])"
   ]
  },
  {
   "cell_type": "code",
   "execution_count": 11,
   "metadata": {},
   "outputs": [
    {
     "name": "stdout",
     "output_type": "stream",
     "text": [
      "[1, 5, 1, 1, 3]\n"
     ]
    }
   ],
   "source": [
    "def remove_extras(lst):\n",
    "    lst2 = []\n",
    "    for i in range(len(lst)):\n",
    "        if lst[i] in lst2:\n",
    "            lst2 += [lst[i]]\n",
    "            lst.pop(i)\n",
    "        else:\n",
    "            continue\n",
    "    return lst\n",
    "    \n",
    "# Do not remove the following code\n",
    "lst1 = [1, 5, 1, 1, 3]\n",
    "lst2 = [2, 2, 2, 1, 5, 4, 4]\n",
    "result1 = remove_extras(lst1)\n",
    "result2 = remove_extras(lst2)\n",
    "\n",
    "print(result1)"
   ]
  }
 ],
 "metadata": {
  "kernelspec": {
   "display_name": "Python 3",
   "language": "python",
   "name": "python3"
  },
  "language_info": {
   "codemirror_mode": {
    "name": "ipython",
    "version": 3
   },
   "file_extension": ".py",
   "mimetype": "text/x-python",
   "name": "python",
   "nbconvert_exporter": "python",
   "pygments_lexer": "ipython3",
   "version": "3.11.5"
  },
  "orig_nbformat": 4
 },
 "nbformat": 4,
 "nbformat_minor": 2
}
