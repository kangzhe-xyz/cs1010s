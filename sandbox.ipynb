{
 "cells": [
  {
   "cell_type": "code",
   "execution_count": null,
   "metadata": {},
   "outputs": [],
   "source": [
    "x = 0\n",
    "def f():\n",
    "  x = 1\n",
    "x = 2"
   ]
  },
  {
   "cell_type": "code",
   "execution_count": null,
   "metadata": {},
   "outputs": [],
   "source": [
    "def g(z, x, y):\n",
    "    return x * y - z\n",
    "\n",
    "print(g(1,2,3))"
   ]
  },
  {
   "cell_type": "code",
   "execution_count": null,
   "metadata": {},
   "outputs": [],
   "source": [
    "def f(s):\n",
    "    return 1010 - s\n",
    "f(10 - f(20))"
   ]
  },
  {
   "cell_type": "code",
   "execution_count": null,
   "metadata": {},
   "outputs": [],
   "source": [
    "def ip_format(ip_address):\n",
    "    ip_addr_string = \"\"\n",
    "    for i in range(0,4):\n",
    "        tally = 0\n",
    "        for j in range(0,8):\n",
    "            print(i*8+j)\n",
    "            tally += int(ip_address[i*8+j]) * 2**(8-j-1)\n",
    "            print(tally)\n",
    "        ip_addr_string = ip_addr_string + str(tally)\n",
    "        if i < 3:\n",
    "            ip_addr_string += \".\"\n",
    "        else:\n",
    "            return ip_addr_string\n",
    "    pass\n",
    "\n",
    "ip_format('00000011100000001111111111111111')"
   ]
  },
  {
   "cell_type": "code",
   "execution_count": null,
   "metadata": {},
   "outputs": [],
   "source": [
    "from math import sqrt\n",
    "def get_bigger_root(a, b, c):\n",
    "    def sqrt_disc(d, e, f):\n",
    "        return sqrt(e**2 - (4 * d * f))\n",
    "    root_1 = (-1 * b + sqrt_disc(a,b,c))/(2*a)\n",
    "    root_2 = (-1 * b - sqrt_disc(a,b,c))/(2*a)\n",
    "    print(root_1)\n",
    "    print(root_2)\n",
    "    return round(max(root_1, root_2),2)\n",
    "\n",
    "get_bigger_root(1,-8,15)"
   ]
  },
  {
   "cell_type": "code",
   "execution_count": null,
   "metadata": {},
   "outputs": [],
   "source": [
    "1234//10000"
   ]
  },
  {
   "cell_type": "code",
   "execution_count": null,
   "metadata": {},
   "outputs": [],
   "source": [
    "def is_sum_odd(num):\n",
    "    i = 0\n",
    "    sum = 0\n",
    "    digits = []\n",
    "    def no_of_digits(num):\n",
    "        k = 0\n",
    "        while num > 0:\n",
    "            print(num)\n",
    "            num -= num // (10**k)\n",
    "            print(num)\n",
    "            k += 1\n",
    "        return k\n",
    "    count_digits = no_of_digits(num)\n",
    "    print(count_digits)\n",
    "    for i in range(0,count_digits):\n",
    "        x = num // (10**(count_digits-i))\n",
    "        digits.append(x/(10**(count_digits - i)))\n",
    "        num -= x\n",
    "    for j in range(0,len(digits)):\n",
    "        sum += digits[j]\n",
    "    print(sum)\n",
    "    print(digits)\n",
    "    if (sum % 2 != 0):\n",
    "        return True\n",
    "    else:\n",
    "        return False\n",
    "\n",
    "\n",
    "is_sum_odd(123789)"
   ]
  },
  {
   "cell_type": "code",
   "execution_count": null,
   "metadata": {},
   "outputs": [],
   "source": [
    "print(12345//10000)"
   ]
  },
  {
   "cell_type": "code",
   "execution_count": null,
   "metadata": {},
   "outputs": [],
   "source": [
    "for i in range(4):\n",
    "   if i == 10:\n",
    "       print(\"ouch\")\n",
    "       break\n",
    "   i = i + 10\n",
    "   print(i)\n",
    "print(\"done\")"
   ]
  },
  {
   "cell_type": "code",
   "execution_count": null,
   "metadata": {},
   "outputs": [],
   "source": [
    "b = 3\n",
    "def fun(b):\n",
    "   b = b + 1\n",
    "   print(b)\n",
    "   if b < 1:\n",
    "       return 0\n",
    "   else:\n",
    "       return not_fun(b - 1)\n",
    "   \n",
    "   \n",
    "def not_fun(a):\n",
    "   a = a - b\n",
    "   print(a)\n",
    "   if a < 0:\n",
    "       return 0\n",
    "   else:\n",
    "       return fun(a + 1)\n",
    "print(fun(4))"
   ]
  },
  {
   "cell_type": "code",
   "execution_count": null,
   "metadata": {},
   "outputs": [],
   "source": [
    "def make_rat(n: int, d: int) -> (int, int):\n",
    "    return (n, d)\n",
    "\n",
    "def denom(rat: (int, int)) -> int:\n",
    "    return(rat[1])\n",
    "\n",
    "x = make_rat(1, 2)\n",
    "print(x)\n",
    "print(denom(x))"
   ]
  },
  {
   "cell_type": "code",
   "execution_count": null,
   "metadata": {},
   "outputs": [],
   "source": [
    "abc = ((1, \"2\"), ((3,), 4)) \n",
    "abc[2]"
   ]
  },
  {
   "cell_type": "code",
   "execution_count": null,
   "metadata": {},
   "outputs": [],
   "source": [
    "a = (1, 2, 3, 4)\n",
    "a[-2:0:1]"
   ]
  },
  {
   "cell_type": "code",
   "execution_count": null,
   "metadata": {},
   "outputs": [],
   "source": [
    "x = (1, (2, 3), (4, \"5\", (6,), 7), \"8\", (9,))\n",
    "(6,) in x"
   ]
  },
  {
   "cell_type": "code",
   "execution_count": null,
   "metadata": {},
   "outputs": [],
   "source": [
    "x = 2\n",
    "y = 3.0\n",
    "z = \"CS1010S\"\n",
    "def f(x, y, z):\n",
    "    return x\n",
    "\n",
    "(1 + 2,) + (3 + 4,)"
   ]
  },
  {
   "cell_type": "code",
   "execution_count": null,
   "metadata": {},
   "outputs": [],
   "source": [
    "y = ()\n",
    "x = (1,2,3,4)\n",
    "# x[3] += 2\n",
    "y = (x[1] + x[2])\n",
    "y += 10\n",
    "(1,2,3) in x"
   ]
  },
  {
   "cell_type": "code",
   "execution_count": null,
   "metadata": {},
   "outputs": [],
   "source": [
    "import sys\n",
    "\n",
    "sys.setrecursionlimit(10**6)\n",
    "\n",
    "memo = {}\n",
    "\n",
    "def f(a, b=0):\n",
    "    # computes f(a * 2^-b)\n",
    "    if (a, b) in memo:\n",
    "        return memo[(a, b)]\n",
    "    if a < 0:\n",
    "        return (-a, b)\n",
    "    c, d = a, b\n",
    "    c -= 1 << d\n",
    "    c1, d1 = f(c, d)\n",
    "    d2 = d1 + b\n",
    "    c2 = (a << d1) - c1\n",
    "    if c == 0:\n",
    "        d = 0\n",
    "    else:\n",
    "        while c % 2 == 0 and d > 0:\n",
    "            c //= 2\n",
    "            d -= 1\n",
    "    c3, d3 = f(c2, d2)\n",
    "    d4 = d3 + 1\n",
    "    memo[(a, b)] = (c3, d4)\n",
    "    return (c3, d4)\n",
    "\n",
    "print(f(2))"
   ]
  }
 ],
 "metadata": {
  "kernelspec": {
   "display_name": "Python 3",
   "language": "python",
   "name": "python3"
  },
  "language_info": {
   "codemirror_mode": {
    "name": "ipython",
    "version": 3
   },
   "file_extension": ".py",
   "mimetype": "text/x-python",
   "name": "python",
   "nbconvert_exporter": "python",
   "pygments_lexer": "ipython3",
   "version": "3.11.6"
  },
  "orig_nbformat": 4
 },
 "nbformat": 4,
 "nbformat_minor": 2
}
