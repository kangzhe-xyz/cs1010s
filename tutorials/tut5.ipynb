{
 "cells": [
  {
   "cell_type": "markdown",
   "metadata": {},
   "source": [
    "# Question 1: Odd Indices\n",
    "Write a Python function called `odd_indices` that takes in a tuple as its only argument and returns a tuple containing all the elements with odd indices (i.e. every second element from the left) from the input tuple.\n"
   ]
  },
  {
   "cell_type": "code",
   "execution_count": null,
   "metadata": {},
   "outputs": [],
   "source": [
    "def odd_indices(tup):\n",
    "    n = 0\n",
    "    res = ()\n",
    "    for i in tup:\n",
    "        if n % 2:\n",
    "            res += (i,)\n",
    "        n += 1\n",
    "    return res"
   ]
  },
  {
   "cell_type": "markdown",
   "metadata": {},
   "source": [
    "# Question 2: Even Odd Sums\n",
    "Write a function called `even_odd_sums` that takes in a tuple of numbers as its only argument and returns a tuple of two elements: the first is the sum of all even-indexed numbers in the input tuple, while the second element is the sum of all odd-indexed elements in the input tuple."
   ]
  },
  {
   "cell_type": "code",
   "execution_count": null,
   "metadata": {},
   "outputs": [],
   "source": [
    "def even_odd_sums(val):\n",
    "    sum_even, sum_odd = 0, 0\n",
    "    n = 0\n",
    "    for i in val:\n",
    "        if n % 2:\n",
    "            sum_odd += i\n",
    "        else:\n",
    "            sum_even += i\n",
    "        n += 1\n",
    "    return (sum_even, sum_odd)"
   ]
  },
  {
   "cell_type": "markdown",
   "metadata": {},
   "source": [
    "# Question 3: Hanoi\n",
    "In this question, you will be required to build a variant of the solution to the \"Towers of Hanoi\" problem presented in class. We define a disk move to be a pair of two numbers: the source pole and the destination pole. For example, (1, 3) indicates the move of a disk from the first pole to the third.\n",
    "\n",
    "Write a function called `hanoi` that takes in 4 parameters:\n",
    "- the number of disks,\n",
    "- the source pole,\n",
    "- the destination pole,\n",
    "- the auxiliary pole,\n",
    "\n",
    "and returns a tuple of disk moves that, if executed in that sequence, will move all the disks from the source pole to the destination pole and comply with the rules of the Tower of Hanoi game. You will not get any marks for a solution that prints a sequence of moves, since that has already been given in class."
   ]
  },
  {
   "cell_type": "code",
   "execution_count": null,
   "metadata": {},
   "outputs": [],
   "source": [
    "def hanoi(n, src, dst, aux):\n",
    "    #Write your code here\n",
    "    pass"
   ]
  },
  {
   "cell_type": "markdown",
   "metadata": {},
   "source": [
    "# Question 4\n",
    "Suppose `x` is bound to the tuple `(1, 2, 3, 4, 5, 6, 7)`. Using `map`, `filter`, `accumulate`, and/or `lambda`s (as discussed in Lecture), write an expression involving `x` that returns:\n",
    "1. (1, 4, 9, 16, 25, 36, 49)\n",
    "2. (1, 3, 5, 7)\n",
    "3. ((1, 1), (2, 2), (3, 3), (4, 4), (5, 5), (6, 6), (7, 7))\n",
    "4. ((2, 4), 6)\n",
    "5. (((2,), 4), 6)\n",
    "6. The maximum element of x: 7\n",
    "7. The minimum element of x: 1\n",
    "8. The maximum squared even element of x: 36\n",
    "9. The sum of the square of each value in x: 140"
   ]
  },
  {
   "cell_type": "code",
   "execution_count": null,
   "metadata": {},
   "outputs": [],
   "source": [
    "a = map(lambda i: i ** 2, x)\n",
    "b = filter(lambda i: i % 2, x)\n",
    "c = ...\n",
    "d = fold_left(lambda x, y: (x, y) if x != () else y,\n",
    "              (),\n",
    "              filter(lambda i: i % 2 == 0, x))\n",
    "e = fold_left(lambda x, y: (x, y) if x != () else (y, ),\n",
    "              (),\n",
    "              filter(lambda i: i % 2 == 0,\n",
    "                     x))\n",
    "f = ...\n",
    "g = ...\n",
    "h = accumulate(lambda x, y: x if x >= y else y, x[0],\n",
    "               map(lambda i: i **2,\n",
    "                   filter(lambda i: i % 2 == 0, \n",
    "                          x)))\n",
    "i = accumulate(lambda x, y: x + y, 0, map(lambda x: x**2, x))"
   ]
  }
 ],
 "metadata": {
  "kernelspec": {
   "display_name": "Python 3",
   "language": "python",
   "name": "python3"
  },
  "language_info": {
   "codemirror_mode": {
    "name": "ipython",
    "version": 3
   },
   "file_extension": ".py",
   "mimetype": "text/x-python",
   "name": "python",
   "nbconvert_exporter": "python",
   "pygments_lexer": "ipython3",
   "version": "3.11.5"
  },
  "orig_nbformat": 4
 },
 "nbformat": 4,
 "nbformat_minor": 2
}
