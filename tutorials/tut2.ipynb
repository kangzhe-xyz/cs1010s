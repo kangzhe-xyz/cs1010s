{
 "cells": [
  {
   "cell_type": "markdown",
   "metadata": {},
   "source": [
    "# Problem 1"
   ]
  },
  {
   "cell_type": "code",
   "execution_count": 1,
   "metadata": {},
   "outputs": [
    {
     "name": "stdout",
     "output_type": "stream",
     "text": [
      "45\n",
      "3\n",
      "45\n",
      "33\n"
     ]
    }
   ],
   "source": [
    "def foo1():\n",
    "    i = 0\n",
    "    result = 0 \n",
    "    while i < 10:   \n",
    "       result += i      \n",
    "       i += 1   \n",
    "    return result\n",
    "print(foo1())\n",
    "\n",
    "\n",
    "def foo2():\n",
    "    i = 0\n",
    "    result = 0\n",
    "    while i < 10:\n",
    "        if i == 3:\n",
    "            break\n",
    "        result += i\n",
    "        i += 1\n",
    "    return result\n",
    "print(foo2())\n",
    "\n",
    "\n",
    "def bar1():\n",
    "    result = 0\n",
    "    for i in range(10):\n",
    "        result += i\n",
    "    return result\n",
    "print(bar1())\n",
    "\n",
    "\n",
    "def bar2():\n",
    "    result = 0\n",
    "    for i in range(10):\n",
    "        if i % 3 == 1:\n",
    "            continue\n",
    "        result += i\n",
    "    return result\n",
    "print(bar2())"
   ]
  },
  {
   "cell_type": "markdown",
   "metadata": {},
   "source": [
    "# Problem 2\n",
    "Write a function `sum_even_factorials` that takes in a non-negative integer `n`, and finds the sum of the factorials of the non-negative even numbers that are less than or equal to `n`."
   ]
  },
  {
   "cell_type": "code",
   "execution_count": 8,
   "metadata": {},
   "outputs": [
    {
     "data": {
      "text/plain": [
       "747"
      ]
     },
     "execution_count": 8,
     "metadata": {},
     "output_type": "execute_result"
    }
   ],
   "source": [
    "from math import factorial\n",
    "def sum_even_factorials(n):\n",
    "    x = 0\n",
    "    for i in range (0,n+1,2):\n",
    "        x += factorial(i)\n",
    "    return x\n",
    "\n",
    "sum_even_factorials(6)"
   ]
  },
  {
   "cell_type": "markdown",
   "metadata": {},
   "source": [
    "# Problem 3\n",
    "A function `f` is defined by the rule that\n",
    "$$ f(n) = \\begin{cases} n & \\text{if } n < 3, \\\\ f(n-1) + 2f(n-2) + 3f(n-3) & \\text{if } n \\geq 3.\\end{cases} $$\n",
    "Write a function `f(n)` that computes `f` by a **recursive** process."
   ]
  },
  {
   "cell_type": "code",
   "execution_count": 11,
   "metadata": {},
   "outputs": [
    {
     "name": "stdout",
     "output_type": "stream",
     "text": [
      "335\n"
     ]
    }
   ],
   "source": [
    "def f(n):\n",
    "    if (n < 3):\n",
    "        return n\n",
    "    else:\n",
    "        return f(n-1) + 2*f(n-2) + 3*f(n-3)\n",
    "    \n",
    "print(f(8))"
   ]
  },
  {
   "cell_type": "markdown",
   "metadata": {},
   "source": [
    "# Problem 4\n",
    "A function `f` is defined by the rule that\n",
    "$$ f(n) = \\begin{cases} n & \\text{if } n < 3, \\\\ f(n-1) + 2f(n-2) + 3f(n-3) & \\text{if } n \\geq 3.\\end{cases} $$\n",
    "Write a function `f(n)` that computes `f` by a **iterative** process."
   ]
  }
 ],
 "metadata": {
  "kernelspec": {
   "display_name": "Python 3",
   "language": "python",
   "name": "python3"
  },
  "language_info": {
   "codemirror_mode": {
    "name": "ipython",
    "version": 3
   },
   "file_extension": ".py",
   "mimetype": "text/x-python",
   "name": "python",
   "nbconvert_exporter": "python",
   "pygments_lexer": "ipython3",
   "version": "3.11.5"
  },
  "orig_nbformat": 4
 },
 "nbformat": 4,
 "nbformat_minor": 2
}
