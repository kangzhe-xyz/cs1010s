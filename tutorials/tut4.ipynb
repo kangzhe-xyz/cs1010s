{
 "cells": [
  {
   "cell_type": "code",
   "execution_count": 8,
   "metadata": {},
   "outputs": [
    {
     "name": "stdout",
     "output_type": "stream",
     "text": [
      "(2, 3)\n"
     ]
    },
    {
     "data": {
      "text/plain": [
       "2"
      ]
     },
     "execution_count": 8,
     "metadata": {},
     "output_type": "execute_result"
    }
   ],
   "source": [
    "def make_point(x, y):\n",
    "    return (x, y)\n",
    "\n",
    "def x_point(p):\n",
    "    return p[0]\n",
    "\n",
    "def y_point(p):\n",
    "    return p[1]\n",
    "\n",
    "p1 = make_point(2, 3)\n",
    "print(p1)\n",
    "x_point(p1)"
   ]
  },
  {
   "cell_type": "markdown",
   "metadata": {},
   "source": [
    "# Question 2: 1 (a)(ii) Representing a line segment\n",
    "A line segment has two endpoints. It can be represented by a pair of points: a *starting point* and an *ending point*.\n",
    "\n",
    "Based on this representation of a line segment, define a segment constructor `make_segment`.\n",
    "\n",
    "Define selector `start_segment` which returns the starting point of a given line segment.\n",
    "\n",
    "Define selector `end_segment` which returns the ending point of a given line segment."
   ]
  },
  {
   "cell_type": "code",
   "execution_count": 9,
   "metadata": {},
   "outputs": [],
   "source": [
    "def make_segment(p1, p2):\n",
    "    return (p1, p2)\n",
    "\n",
    "def start_segment(s):\n",
    "    return s[0]\n",
    "\n",
    "def end_segment(s):\n",
    "    return s[1]"
   ]
  },
  {
   "cell_type": "markdown",
   "metadata": {},
   "source": [
    "# Question 3: 1 (a)(iii) Midpoint Segment\n",
    "Finally, using the sectors and constructors which you have defined, define a function `midpoint_segment` that takes a line segment as argument and returns its midpoint."
   ]
  },
  {
   "cell_type": "code",
   "execution_count": 24,
   "metadata": {},
   "outputs": [
    {
     "name": "stdout",
     "output_type": "stream",
     "text": [
      "3.5\n"
     ]
    }
   ],
   "source": [
    "def midpoint_segment(segment):\n",
    "    mid_x = (x_point(segment[0]) + x_point(segment[1]))/ 2\n",
    "    mid_y = (y_point(segment[0]) + y_point(segment[1]))/ 2\n",
    "    return (mid_x, mid_y)\n",
    "\n",
    "p1 = make_point(2, 3)\n",
    "p2 = make_point(5, 7)\n",
    "s = make_segment(p1, p2)\n",
    "\n",
    "print(x_point(midpoint_segment(s)))"
   ]
  },
  {
   "cell_type": "markdown",
   "metadata": {},
   "source": [
    "# Question 4: 1 (b) Representing a rectangle\n",
    "\n",
    "Implement a representation for a rectangle in a 2D plane. In terms of your constructors and selectors, create functions that compute the perimeter and the area of a given rectangle."
   ]
  },
  {
   "cell_type": "code",
   "execution_count": 25,
   "metadata": {},
   "outputs": [
    {
     "data": {
      "text/plain": [
       "15"
      ]
     },
     "execution_count": 25,
     "metadata": {},
     "output_type": "execute_result"
    }
   ],
   "source": [
    "# Your rectangle constructor here\n",
    "def rect(x, y): # Change your parameters\n",
    "    return (x, y)\n",
    "\n",
    "# Add any selector functions and other functions if you need here\n",
    "#####################################\n",
    "\n",
    "#####################################\n",
    "\n",
    "# Complete the implementation of perimeter and area\n",
    "def perimeter(rect):\n",
    "    x = x_point(rect)\n",
    "    y = y_point(rect)\n",
    "    return 2*x + 2*y\n",
    "\n",
    "def area(rect):\n",
    "    # Your code here\n",
    "    x = x_point(rect)\n",
    "    y = y_point(rect)\n",
    "    return x * y\n",
    "\n",
    "\n",
    "# Construct a rectangle of length 5 and width 3\n",
    "rect_a = rect(5, 3) # replace with your rect implementation\n",
    "\n",
    "area(rect_a)"
   ]
  },
  {
   "cell_type": "markdown",
   "metadata": {},
   "source": [
    "# Question 5: 2 (a) Product Data Type\n",
    "See the pdf."
   ]
  },
  {
   "cell_type": "code",
   "execution_count": null,
   "metadata": {},
   "outputs": [],
   "source": []
  }
 ],
 "metadata": {
  "kernelspec": {
   "display_name": "Python 3",
   "language": "python",
   "name": "python3"
  },
  "language_info": {
   "codemirror_mode": {
    "name": "ipython",
    "version": 3
   },
   "file_extension": ".py",
   "mimetype": "text/x-python",
   "name": "python",
   "nbconvert_exporter": "python",
   "pygments_lexer": "ipython3",
   "version": "3.11.5"
  },
  "orig_nbformat": 4
 },
 "nbformat": 4,
 "nbformat_minor": 2
}
