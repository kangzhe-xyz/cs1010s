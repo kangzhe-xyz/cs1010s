{
 "cells": [
  {
   "cell_type": "markdown",
   "metadata": {},
   "source": [
    "# Tutorial 1\n",
    "\n",
    "## Problem 1\n",
    "Implement a function that will return the number of digits in an integer. You can safely assume that the integers are non-negative and will not begin with the number 0, other than the integer 0 itself."
   ]
  },
  {
   "cell_type": "code",
   "execution_count": 4,
   "metadata": {},
   "outputs": [
    {
     "data": {
      "text/plain": [
       "10"
      ]
     },
     "execution_count": 4,
     "metadata": {},
     "output_type": "execute_result"
    }
   ],
   "source": [
    "def no_of_digits(x):\n",
    "    return(len(str(x))) # is this legit?\n",
    "\n",
    "def no_of_digits_2(x):\n",
    "    if abs(x) < 10:\n",
    "        return 1\n",
    "    else:\n",
    "        return 1 + no_of_digits_2(x // 10)\n",
    "    \n",
    "# test\n",
    "no_of_digits_2(2183421834)"
   ]
  },
  {
   "cell_type": "markdown",
   "metadata": {},
   "source": [
    "## Problem 2\n",
    "Implement a function that takes three numbers as arguments and returns the sum of the squares of the two largest numbers. It is not guaranteed that all the numbers are distinct. For example, if the numbers are 1, 3, 1, then the answer is $3^2 + 1^2 = 10$. If the numbers are 7, 7, 2, then the answer is $7^2 + 7^2 = 98$."
   ]
  },
  {
   "cell_type": "code",
   "execution_count": 2,
   "metadata": {},
   "outputs": [],
   "source": [
    "def add_max_squares(x,y,z):\n",
    "    return(x**2 + y**2 + z**2 - min(x,y,z)**2) # Maybe it is better to sort first. But whatever."
   ]
  },
  {
   "cell_type": "markdown",
   "metadata": {},
   "source": [
    "## Problem 3\n",
    "Implement a function `magnitude` that takes in the coordinates of two points on a plane, `(x1, y1)` and `(x2, y2)`, as arguments and returns the magninute of the vector between them."
   ]
  },
  {
   "cell_type": "code",
   "execution_count": 3,
   "metadata": {},
   "outputs": [
    {
     "name": "stdout",
     "output_type": "stream",
     "text": [
      "5.0\n"
     ]
    }
   ],
   "source": [
    "from math import *\n",
    "\n",
    "def magnitude(x1, y1, x2, y2):\n",
    "    return(sqrt((x2-x1)**2 + (y2-y1)**2)) # Lazy\n",
    "\n",
    "# Test\n",
    "print(magnitude(2,2,5,6))"
   ]
  },
  {
   "cell_type": "markdown",
   "metadata": {},
   "source": [
    "## Problem 4\n",
    "Implement a function `is_leap_year` that takes one integer parameter and decides whether it corresponds to a leap year, i.e. the function `is_leap_year` returns `True` if the input parameter is true, and `False` otherwise. So which years are leap years?  Well, according to Wikipedia:\n",
    "> In the Gregorian calendar, the current standard calendar in most of the world, most years that are integer multiples of 4 are leap years. In each leap year, the month of February has 29 days instead of 28. Adding an extra day to the calendar every four years compensates for the fact that a period of 365 days is shorter than a solar year by almost 6 hours. This calendar was first used in 1582.  \n",
    "\n",
    "> Some exceptions to this rule are required since the duration of a solar year is slightly less than 365.25 days. Over a period of four centuries, the accumulated error of adding a leap day every four years amounts to about three extra days. The Gregorian Calendar therefore omits 3 leap days every 400 years, omitting February 29 in the 3 century years (integer multiples of 100) that are not also integer multiples of 400. For example, 1600 was a leap year, but 1700, 1800 and 1900 were not. Similarly, 2000 was a leap year, but 2100, 2200, and 2300 will not be. By this rule, the average number of days per year is $365 + \\frac{1}{4} - \\frac{1}{100} + \\frac{1}{400} = 365.2425$."
   ]
  },
  {
   "cell_type": "markdown",
   "metadata": {},
   "source": [
    "div by 400 OR (div by 4 and NOT div by 100)"
   ]
  },
  {
   "cell_type": "code",
   "execution_count": 2,
   "metadata": {},
   "outputs": [
    {
     "name": "stdout",
     "output_type": "stream",
     "text": [
      "1000 is not a leap year.\n",
      "2021 is not a leap year.\n",
      "Done.\n"
     ]
    }
   ],
   "source": [
    "def is_leap_year(year):\n",
    "    if (year % 4 == 0):\n",
    "        if (year % 400 == 0):\n",
    "            return(True)\n",
    "        elif (year % 100 == 0):\n",
    "            return(False)\n",
    "        else:\n",
    "            return(True)\n",
    "    else:\n",
    "        return(False)\n",
    "    \n",
    "def is_leap_year_2(year):\n",
    "    if (year % 400 == 0 or (year % 4 == 0 and year % 100 != 0)):\n",
    "        return(True)\n",
    "    else:\n",
    "        return(False)\n",
    "\n",
    "# Test\n",
    "years = [1000, 1804, 1808, 1812, 1816, 1820, 1824, 1828, 1832, 1836, 1840, 1844, 1848, 1852, 1856, 1860, 1864, 1868, 1872, 1876, 1880, 1884, 1888, 1892, 1896, 1904, 1908, 1912, 1916, 1920, 1924, 1928, 1932, 1936, 1940, 1944, 1948, 1952, 1956, 1960, 1964, 1968, 1972, 1976, 1980, 1984, 1988, 1992, 1996, 2000, 2004, 2008, 2012, 2016, 2020, 2021]\n",
    "for i in years:\n",
    "    if (is_leap_year_2(i) == False):\n",
    "        print(str(i) + \" is not a leap year.\")\n",
    "    else:\n",
    "        pass\n",
    "print(\"Done.\")"
   ]
  },
  {
   "cell_type": "code",
   "execution_count": 5,
   "metadata": {},
   "outputs": [
    {
     "name": "stdout",
     "output_type": "stream",
     "text": [
      "None\n"
     ]
    }
   ],
   "source": [
    "print(None)"
   ]
  }
 ],
 "metadata": {
  "kernelspec": {
   "display_name": "Python 3",
   "language": "python",
   "name": "python3"
  },
  "language_info": {
   "codemirror_mode": {
    "name": "ipython",
    "version": 3
   },
   "file_extension": ".py",
   "mimetype": "text/x-python",
   "name": "python",
   "nbconvert_exporter": "python",
   "pygments_lexer": "ipython3",
   "version": "3.11.4"
  },
  "orig_nbformat": 4
 },
 "nbformat": 4,
 "nbformat_minor": 2
}
