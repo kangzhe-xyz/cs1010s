{
 "cells": [
  {
   "cell_type": "code",
   "execution_count": 4,
   "metadata": {},
   "outputs": [],
   "source": [
    "def at_least_n(lst, n):\n",
    "    for i in list(lst):\n",
    "        if i < n:\n",
    "            lst.remove(i)\n",
    "    return lst\n",
    "### DO NOT MODIFY THIS ###\n",
    "lst1 = list(range(10))  \n",
    "lst2 = list(range(8))\n",
    "lst3 = list(range(6,10))"
   ]
  }
 ],
 "metadata": {
  "kernelspec": {
   "display_name": "Python 3",
   "language": "python",
   "name": "python3"
  },
  "language_info": {
   "codemirror_mode": {
    "name": "ipython",
    "version": 3
   },
   "file_extension": ".py",
   "mimetype": "text/x-python",
   "name": "python",
   "nbconvert_exporter": "python",
   "pygments_lexer": "ipython3",
   "version": "3.11.5"
  }
 },
 "nbformat": 4,
 "nbformat_minor": 2
}
