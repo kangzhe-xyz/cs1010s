{
 "cells": [
  {
   "cell_type": "markdown",
   "metadata": {},
   "source": [
    "There is a pile of bananas, owned by k men. Over each of the next k days, one man divides the pile into k equal piles with 1 leftover banana and then removes his share and gives the 1 leftover banana to a passing monkey. After k days, the group divides the remaining bananas into k equal piles and no leftover bananas.\n",
    "\n",
    "Given the number k for the number of men, what is the smallest number of bananas there were in the original pile?\n",
    "\n",
    " \n",
    "\n",
    "Example 1: In the case of 3 men, there were 25 bananas initially. The 3 days went as follows:\n",
    "\n",
    "Day 1: One man split the bananas into 3 piles of 8 bananas (8 * 3 = 24). 1 left over given to a passing monkey. The man took 8 from his share. There were 16 bananas left after day 1.\n",
    "\n",
    "Day 2: One man split the bananas into 3 piles of 5 bananas (5 * 3 = 15). 1 left over given to a passing monkey. The man took 5 from his share. There were 10 bananas left after day 2.\n",
    "\n",
    "Day 3: One man split the bananas into 3 piles of 3 bananas (3 * 3 = 9). 1 left over given to a passing monkey. The man took 3 from his share. There were 6 bananas left after day 3.\n",
    "\n",
    "At the end, there were 6 bananas left and it can be split into 3 piles of 2 bananas each without left over.\n",
    "\n",
    " \n",
    "\n",
    "Example 2: In the case of 4 men, there were 765 bananas initially. The 4 days went as follows:\n",
    "\n",
    "Day 1: One man split the bananas into 4 piles of 191 bananas (191 * 4 = 764). 1 left over given to a passing monkey.  The man took 191 from his share. There were 573 bananas left after day 1.\n",
    "\n",
    "Day 2: One man split the bananas into 4 piles of 143 bananas (143 * 4 = 572). 1 left over given to a passing monkey. The man took 143 from his share. There were 429 bananas left after day 2.\n",
    "\n",
    "Day 3: One man split the bananas into 4 piles of 107 bananas (107 * 4 = 428). 1 left over given to a passing monkey. The man took 107 from his share. There were 321 bananas left after day 3.\n",
    "\n",
    "Day 4: One man split the bananas into 4 piles of 80 bananas (80 * 4 = 320). 1 left over given to a passing monkey. The man took 80 from his share. There were 240 bananas left after day 4.\n",
    "\n",
    "At the end, there were 240 bananas left and it can be split into 4 piles of 60 bananas each without any leftovers.  We are going to solve this problem with brute force guess-and-check.\n",
    "\n",
    " \n",
    "\n",
    "The first part is to define the check (part of Guess and Check). Note that we assume the minimum number of men is 2.\n",
    "\n",
    " \n",
    "\n",
    "Question: Write the function check(bananas, men) that takes in two positive integers, bananas and men, representing the number of bananas and the number of men such that men ≥ 2.  The function returns True if the number of bananas satisfies the condition above. Otherwise it returns False.For instance,\n",
    "\n",
    "check(25, 3) -> True\n",
    "check(24, 3) -> False\n",
    "check(50, 3) -> False\n",
    "check(106, 3) -> True "
   ]
  },
  {
   "cell_type": "code",
   "execution_count": 22,
   "metadata": {},
   "outputs": [
    {
     "data": {
      "text/plain": [
       "True"
      ]
     },
     "execution_count": 22,
     "metadata": {},
     "output_type": "execute_result"
    }
   ],
   "source": [
    "def check(n, k):\n",
    "    for i in range(0,k):\n",
    "        n = (n-1)/k * (k-1)\n",
    "    return True if n % k == 0 else False\n",
    "\n",
    "check(25,3)"
   ]
  },
  {
   "cell_type": "code",
   "execution_count": 26,
   "metadata": {},
   "outputs": [
    {
     "data": {
      "text/plain": [
       "233275"
      ]
     },
     "execution_count": 26,
     "metadata": {},
     "output_type": "execute_result"
    }
   ],
   "source": [
    "def bananas(n):\n",
    "    counter = 0\n",
    "    while not check(counter, n):\n",
    "        counter += 1\n",
    "    return counter\n",
    "\n",
    "bananas(6)"
   ]
  },
  {
   "cell_type": "code",
   "execution_count": 1,
   "metadata": {},
   "outputs": [
    {
     "data": {
      "text/plain": [
       "27"
      ]
     },
     "execution_count": 1,
     "metadata": {},
     "output_type": "execute_result"
    }
   ],
   "source": [
    "def matchstick(n):\n",
    "    if n == 1:\n",
    "        return 6\n",
    "    else:\n",
    "        return matchstick(n-1) + 3*(n+1) \n",
    "    \n",
    "matchstick(3)\n"
   ]
  },
  {
   "cell_type": "code",
   "execution_count": 7,
   "metadata": {},
   "outputs": [
    {
     "data": {
      "text/plain": [
       "7"
      ]
     },
     "execution_count": 7,
     "metadata": {},
     "output_type": "execute_result"
    }
   ],
   "source": [
    "def f(x, g, y1, y2):\n",
    "    if x > 0:\n",
    "        return g(y1, y2)\n",
    "    else:\n",
    "        return g(y2, y1)\n",
    "\n",
    "def g(x):\n",
    "    return x+1\n",
    "\n",
    "def h(y, z):\n",
    "    return y+z\n",
    "\n",
    "f(g(1), h, 3, 4)\n"
   ]
  }
 ],
 "metadata": {
  "kernelspec": {
   "display_name": "Python 3",
   "language": "python",
   "name": "python3"
  },
  "language_info": {
   "codemirror_mode": {
    "name": "ipython",
    "version": 3
   },
   "file_extension": ".py",
   "mimetype": "text/x-python",
   "name": "python",
   "nbconvert_exporter": "python",
   "pygments_lexer": "ipython3",
   "version": "3.11.1"
  },
  "orig_nbformat": 4
 },
 "nbformat": 4,
 "nbformat_minor": 2
}
