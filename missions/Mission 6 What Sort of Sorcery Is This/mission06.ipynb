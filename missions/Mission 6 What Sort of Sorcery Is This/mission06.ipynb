{
 "cells": [
  {
   "cell_type": "code",
   "execution_count": 1,
   "metadata": {},
   "outputs": [
    {
     "name": "stdout",
     "output_type": "stream",
     "text": [
      " 2\n",
      "1 3\n",
      "   5\n",
      " 2   7\n",
      "1     10\n"
     ]
    }
   ],
   "source": [
    "def print_tree(tree, print_output=True):\n",
    "    \"\"\"\n",
    "    Helper function to print trees in this mission.\n",
    "\n",
    "    Yes, it looks scary. Nothing to see here (:\n",
    "    \"\"\"\n",
    "    def get_elements_at_level(tree, level):\n",
    "        def helper(tree, level, cur):\n",
    "            if is_empty_tree(tree) and cur < level:\n",
    "                dummy = build_tree(\" \", make_empty_tree(), make_empty_tree())\n",
    "                return helper(left_branch(dummy), level, cur + 1) + helper(right_branch(dummy), level, cur + 1)\n",
    "            if cur == level:\n",
    "                if is_empty_tree(tree):\n",
    "                    return (\" \", )\n",
    "                else:\n",
    "                    return (entry(tree), )\n",
    "            elif cur < level:\n",
    "                return helper(left_branch(tree), level, cur + 1) + helper(right_branch(tree), level, cur + 1)\n",
    "        return helper(tree, level, 0)\n",
    "\n",
    "    def height(tree):\n",
    "        if is_empty_tree(tree):\n",
    "            return 0\n",
    "        else:\n",
    "            return 1 + max(height(left_branch(tree)), height(right_branch(tree)))\n",
    "\n",
    "    h = height(tree)\n",
    "    output_string = \"\"\n",
    "\n",
    "    for level in range(h):\n",
    "        indent = 2 ** (h - (level + 1)) - 1\n",
    "        spacing = 2 ** (h - level) - 1\n",
    "\n",
    "        output = \" \" * indent\n",
    "\n",
    "        for i, e in enumerate(get_elements_at_level(tree, level)):\n",
    "            if level == 0 or i == 0:\n",
    "                output = output + str(e)\n",
    "            else:\n",
    "                output = output + \" \" * spacing + str(e)\n",
    "        if print_output:\n",
    "            print(output)\n",
    "        else:\n",
    "            output_string += output + '/'\n",
    "    if not print_output:\n",
    "        return output_string\n",
    "\n",
    "def accumulate(fn, initial, seq):\n",
    "    if not seq: # if seq is empty\n",
    "        return initial\n",
    "    else:\n",
    "        return fn(seq[0], accumulate(fn, initial, seq[1:]))\n",
    "\n",
    "\n",
    "###########\n",
    "# BST ADT #\n",
    "###########\n",
    "\n",
    "def build_tree(entry, left, right):\n",
    "    return [entry, left, right]\n",
    "\n",
    "def entry(tree):\n",
    "    return tree[0]\n",
    "\n",
    "def left_branch(tree):\n",
    "    return tree[1]\n",
    "\n",
    "def right_branch(tree):\n",
    "    return tree[2]\n",
    "\n",
    "def make_empty_tree():\n",
    "    return []\n",
    "\n",
    "def is_empty_tree(tree):\n",
    "    return tree == []\n",
    "\n",
    "t1 = build_tree(2, build_tree(1, make_empty_tree(),\n",
    "                                 make_empty_tree()),\n",
    "                   build_tree(3, make_empty_tree(),\n",
    "                                 make_empty_tree()))\n",
    "print_tree(t1)\n",
    "#=> 2\n",
    "#=>1 3\n",
    "\n",
    "t2 = build_tree(5, build_tree(2, build_tree(1, make_empty_tree(),\n",
    "                                               make_empty_tree()),\n",
    "                                 make_empty_tree()),\n",
    "                   build_tree(7, make_empty_tree(),\n",
    "                                 build_tree(10, make_empty_tree(),\n",
    "                                                make_empty_tree())))\n",
    "print_tree(t2)\n",
    "#=>   5\n",
    "#=> 2   7\n",
    "#=>1     10"
   ]
  },
  {
   "cell_type": "markdown",
   "metadata": {},
   "source": [
    "# Task 1a"
   ]
  },
  {
   "cell_type": "code",
   "execution_count": 3,
   "metadata": {},
   "outputs": [
    {
     "name": "stdout",
     "output_type": "stream",
     "text": [
      "more than. go right.\n",
      " 2\n",
      "1 3\n"
     ]
    },
    {
     "ename": "UnboundLocalError",
     "evalue": "cannot access local variable 'next' where it is not associated with a value",
     "output_type": "error",
     "traceback": [
      "\u001b[0;31m---------------------------------------------------------------------------\u001b[0m",
      "\u001b[0;31mUnboundLocalError\u001b[0m                         Traceback (most recent call last)",
      "\u001b[1;32m/Users/kangzhe/Documents/y1s1/cs1010s/missions/Mission 6 What Sort of Sorcery Is This/mission06.ipynb Cell 3\u001b[0m line \u001b[0;36m2\n\u001b[1;32m     <a href='vscode-notebook-cell:/Users/kangzhe/Documents/y1s1/cs1010s/missions/Mission%206%20What%20Sort%20of%20Sorcery%20Is%20This/mission06.ipynb#W1sZmlsZQ%3D%3D?line=22'>23</a>\u001b[0m         print_tree(tree)\n\u001b[1;32m     <a href='vscode-notebook-cell:/Users/kangzhe/Documents/y1s1/cs1010s/missions/Mission%206%20What%20Sort%20of%20Sorcery%20Is%20This/mission06.ipynb#W1sZmlsZQ%3D%3D?line=23'>24</a>\u001b[0m         \u001b[39mreturn\u001b[39;00m build_tree(entry(\u001b[39mnext\u001b[39m), left_branch(\u001b[39mnext\u001b[39m), insert_tree(x, right_branch(\u001b[39mnext\u001b[39m)))\n\u001b[0;32m---> <a href='vscode-notebook-cell:/Users/kangzhe/Documents/y1s1/cs1010s/missions/Mission%206%20What%20Sort%20of%20Sorcery%20Is%20This/mission06.ipynb#W1sZmlsZQ%3D%3D?line=25'>26</a>\u001b[0m t1 \u001b[39m=\u001b[39m insert_tree(\u001b[39m5\u001b[39;49m, t1)\n\u001b[1;32m     <a href='vscode-notebook-cell:/Users/kangzhe/Documents/y1s1/cs1010s/missions/Mission%206%20What%20Sort%20of%20Sorcery%20Is%20This/mission06.ipynb#W1sZmlsZQ%3D%3D?line=26'>27</a>\u001b[0m print_tree(t1)\n\u001b[1;32m     <a href='vscode-notebook-cell:/Users/kangzhe/Documents/y1s1/cs1010s/missions/Mission%206%20What%20Sort%20of%20Sorcery%20Is%20This/mission06.ipynb#W1sZmlsZQ%3D%3D?line=28'>29</a>\u001b[0m \u001b[39m#=> 2           insert_tree(5, t1)        2\u001b[39;00m\n\u001b[1;32m     <a href='vscode-notebook-cell:/Users/kangzhe/Documents/y1s1/cs1010s/missions/Mission%206%20What%20Sort%20of%20Sorcery%20Is%20This/mission06.ipynb#W1sZmlsZQ%3D%3D?line=29'>30</a>\u001b[0m \u001b[39m#=>1 3               ===>               1   3\u001b[39;00m\n\u001b[1;32m     <a href='vscode-notebook-cell:/Users/kangzhe/Documents/y1s1/cs1010s/missions/Mission%206%20What%20Sort%20of%20Sorcery%20Is%20This/mission06.ipynb#W1sZmlsZQ%3D%3D?line=30'>31</a>\u001b[0m \u001b[39m#=>                                          5\u001b[39;00m\n",
      "\u001b[1;32m/Users/kangzhe/Documents/y1s1/cs1010s/missions/Mission 6 What Sort of Sorcery Is This/mission06.ipynb Cell 3\u001b[0m line \u001b[0;36m2\n\u001b[1;32m     <a href='vscode-notebook-cell:/Users/kangzhe/Documents/y1s1/cs1010s/missions/Mission%206%20What%20Sort%20of%20Sorcery%20Is%20This/mission06.ipynb#W1sZmlsZQ%3D%3D?line=21'>22</a>\u001b[0m \u001b[39mprint\u001b[39m(\u001b[39m\"\u001b[39m\u001b[39mmore than. go right.\u001b[39m\u001b[39m\"\u001b[39m)\n\u001b[1;32m     <a href='vscode-notebook-cell:/Users/kangzhe/Documents/y1s1/cs1010s/missions/Mission%206%20What%20Sort%20of%20Sorcery%20Is%20This/mission06.ipynb#W1sZmlsZQ%3D%3D?line=22'>23</a>\u001b[0m print_tree(tree)\n\u001b[0;32m---> <a href='vscode-notebook-cell:/Users/kangzhe/Documents/y1s1/cs1010s/missions/Mission%206%20What%20Sort%20of%20Sorcery%20Is%20This/mission06.ipynb#W1sZmlsZQ%3D%3D?line=23'>24</a>\u001b[0m \u001b[39mreturn\u001b[39;00m build_tree(entry(\u001b[39mnext\u001b[39;49m), left_branch(\u001b[39mnext\u001b[39m), insert_tree(x, right_branch(\u001b[39mnext\u001b[39m)))\n",
      "\u001b[0;31mUnboundLocalError\u001b[0m: cannot access local variable 'next' where it is not associated with a value"
     ]
    }
   ],
   "source": [
    "##########\n",
    "# Task 1a #\n",
    "##########\n",
    "\n",
    "def insert_tree(x, tree):\n",
    "    \"\"\"\n",
    "    - tree is empty -> return a tree with x as entry and empty left and right branches\n",
    "    - x <= entry -> return new tree with x inserted into left sub tree\n",
    "    - otherwise -> return new tree with x inserted into right sub tree\n",
    "    \"\"\"\n",
    "    if is_empty_tree(tree):\n",
    "        print(\"empty\")\n",
    "        result = build_tree(x, make_empty_tree(), make_empty_tree())\n",
    "        print(result)\n",
    "        return result\n",
    "    elif x <= entry(tree):\n",
    "        print(\"less than. go left.\")\n",
    "        print_tree(tree)\n",
    "        next = left_branch(tree)\n",
    "        return build_tree(entry(next), insert_tree(x, left_branch(next)), right_branch(next))\n",
    "    else:\n",
    "        print(\"more than. go right.\")\n",
    "        print_tree(tree)\n",
    "        return build_tree(entry(next), left_branch(next), insert_tree(x, right_branch(next)))\n",
    "\n",
    "t1 = insert_tree(5, t1)\n",
    "print_tree(t1)\n",
    "\n",
    "#=> 2           insert_tree(5, t1)        2\n",
    "#=>1 3               ===>               1   3\n",
    "#=>                                          5\n"
   ]
  }
 ],
 "metadata": {
  "kernelspec": {
   "display_name": "Python 3",
   "language": "python",
   "name": "python3"
  },
  "language_info": {
   "codemirror_mode": {
    "name": "ipython",
    "version": 3
   },
   "file_extension": ".py",
   "mimetype": "text/x-python",
   "name": "python",
   "nbconvert_exporter": "python",
   "pygments_lexer": "ipython3",
   "version": "3.11.5"
  }
 },
 "nbformat": 4,
 "nbformat_minor": 2
}
