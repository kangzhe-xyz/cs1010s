{
 "cells": [
  {
   "cell_type": "markdown",
   "metadata": {},
   "source": [
    "# Task 1: Combine them together! (5 marks)\n",
    "We will be looking at higher order functions that are used to implement other functions. Consider the following higher order function called `combine`: "
   ]
  },
  {
   "cell_type": "code",
   "execution_count": 2,
   "metadata": {},
   "outputs": [],
   "source": [
    "def combine(f, op, n):\n",
    "    result = f(0)\n",
    "    for i in range(n):\n",
    "        result = op(result, f(i))\n",
    "    return result"
   ]
  },
  {
   "cell_type": "markdown",
   "metadata": {},
   "source": [
    "## Part (a)\n",
    "Let's define the `smiley_sum` $S(t)$ as follows:\n",
    "\n",
    "$$S(1) = 1$$\n",
    "$$S(2) = 4 + 1 + 4 = 9$$\n",
    "$$S(3) = 9 + 4 + 1 + 4 + 9 = 27$$\n",
    "$$S(4) = 16 + 9 + 4 + 1 + 4 + 9 + 16 = 59$$\n",
    "$$S(5) = 25 + 16 + 9 + 4 + 1 + 4 + 9 + 16 + 25 = 109$$\n",
    "\n",
    "If we look closer, we can actually define `smiley_sum` in terms of `combine`!\n",
    "\n",
    "Fill in the appropriate implementations for `f`, `op`, and `n`. You are reminded to test your code for correctness.\n",
    "\n",
    "**Reminder.** You are not allowed to modify the `return` statement!"
   ]
  },
  {
   "cell_type": "code",
   "execution_count": 24,
   "metadata": {},
   "outputs": [
    {
     "data": {
      "text/plain": [
       "10"
      ]
     },
     "execution_count": 24,
     "metadata": {},
     "output_type": "execute_result"
    }
   ],
   "source": [
    "def smiley_sum(t):\n",
    "    def f(x):\n",
    "        if x == 0:\n",
    "            return 0\n",
    "        else:\n",
    "            return x**2\n",
    "\n",
    "    def op(x, y):\n",
    "        if y == 1:\n",
    "            return 1\n",
    "        else:\n",
    "            return x + 2 * y \n",
    "\n",
    "    n = t + 1\n",
    "\n",
    "    return combine(f, op, n)\n",
    "\n",
    "smiley_sum(int(input(\"What is your number?\")))"
   ]
  },
  {
   "cell_type": "code",
   "execution_count": null,
   "metadata": {},
   "outputs": [],
   "source": [
    "def new_fib(n):\n",
    "    def f(x):\n",
    "        ...\n",
    "\n",
    "    def op(x, y):\n",
    "        ...\n",
    "\n",
    "    return combine(f, op, n+1)"
   ]
  },
  {
   "cell_type": "code",
   "execution_count": null,
   "metadata": {},
   "outputs": [],
   "source": [
    "def foo(n):\n",
    "    def bar(n):\n",
    "        if n == 0:\n",
    "            return 0\n",
    "        else:\n",
    "            return 1 + bar(n - 1)\n",
    "    return n * bar(n)"
   ]
  },
  {
   "cell_type": "code",
   "execution_count": null,
   "metadata": {},
   "outputs": [],
   "source": [
    "def bar(n):\n",
    "    if n == 0:\n",
    "        return 0\n",
    "    else:\n",
    "        return n + bar(n - 1)\n",
    "\n",
    "def foo(n):\n",
    "    if n == 0:\n",
    "        return 0\n",
    "    else:\n",
    "        return bar(n) + foo(n - 1)"
   ]
  }
 ],
 "metadata": {
  "kernelspec": {
   "display_name": "Python 3",
   "language": "python",
   "name": "python3"
  },
  "language_info": {
   "codemirror_mode": {
    "name": "ipython",
    "version": 3
   },
   "file_extension": ".py",
   "mimetype": "text/x-python",
   "name": "python",
   "nbconvert_exporter": "python",
   "pygments_lexer": "ipython3",
   "version": "3.11.5"
  },
  "orig_nbformat": 4
 },
 "nbformat": 4,
 "nbformat_minor": 2
}
