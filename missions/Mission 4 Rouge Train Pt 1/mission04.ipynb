{
 "cells": [
  {
   "cell_type": "markdown",
   "metadata": {},
   "source": [
    "# Task 1: Introduction to ADTs (21 marks)\n",
    "Abstract Data Types (ADT) allow us to define data in terms of its behaviour from the point of view of a user of this data.\n",
    "\n",
    "The tasks and examples in the following section will help to illustrate this.\n",
    "\n",
    "In this mission, we mostly store the data in tuples. However, the beauty of ADTs is that we can change the way we store the data. As long as we interact with the data through the abstraction, the rest of our code does not need to change.\n",
    "\n",
    "## Task 1a: Train Station"
   ]
  },
  {
   "cell_type": "code",
   "execution_count": null,
   "metadata": {},
   "outputs": [],
   "source": [
    "def get_station_code(station):\n",
    "    return station[0]\n",
    "\n",
    "def get_station_name(station):\n",
    "    return station[1]"
   ]
  },
  {
   "cell_type": "markdown",
   "metadata": {},
   "source": [
    "## Task 1b: Train ADT"
   ]
  },
  {
   "cell_type": "code",
   "execution_count": null,
   "metadata": {},
   "outputs": [],
   "source": [
    "def make_train(train_code):\n",
    "    return train_code\n",
    "\n",
    "def get_train_code(train):\n",
    "    return make_train(train)"
   ]
  },
  {
   "cell_type": "markdown",
   "metadata": {},
   "source": [
    "# Task 1c: Line ADT"
   ]
  },
  {
   "cell_type": "code",
   "execution_count": null,
   "metadata": {},
   "outputs": [],
   "source": [
    "def make_line(name, stations):\n",
    "    return (name, stations)\n",
    "\n",
    "def get_line_name(line):\n",
    "    return make_line(line[0])\n",
    "\n",
    "def get_line_stations(line):\n",
    "    return make_line(line[1])\n",
    "\n",
    "def get_station_by_name(line, station_name):\n",
    "    return station_name in make_line(line[1])\n",
    "\n",
    "def get_station_by_code(line, station_code):\n",
    "    '''your code here'''\n",
    "    pass\n",
    "\n",
    "def get_station_position(line, station_code):\n",
    "    '''your code here'''\n",
    "    pass"
   ]
  }
 ],
 "metadata": {
  "language_info": {
   "name": "python"
  },
  "orig_nbformat": 4
 },
 "nbformat": 4,
 "nbformat_minor": 2
}
