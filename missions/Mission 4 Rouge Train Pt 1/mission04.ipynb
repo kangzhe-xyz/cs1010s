{
 "cells": [
  {
   "cell_type": "markdown",
   "metadata": {},
   "source": [
    "# Task 1: Introduction to ADTs (21 marks)\n",
    "Abstract Data Types (ADT) allow us to define data in terms of its behaviour from the point of view of a user of this data.\n",
    "\n",
    "The tasks and examples in the following section will help to illustrate this.\n",
    "\n",
    "In this mission, we mostly store the data in tuples. However, the beauty of ADTs is that we can change the way we store the data. As long as we interact with the data through the abstraction, the rest of our code does not need to change.\n",
    "\n",
    "## Task 1a: Train Station"
   ]
  },
  {
   "cell_type": "code",
   "execution_count": null,
   "metadata": {},
   "outputs": [],
   "source": [
    "def get_station_code(station):\n",
    "    return station[0]\n",
    "\n",
    "def get_station_name(station):\n",
    "    return station[1]"
   ]
  },
  {
   "cell_type": "markdown",
   "metadata": {},
   "source": [
    "## Task 1b: Train ADT"
   ]
  },
  {
   "cell_type": "code",
   "execution_count": null,
   "metadata": {},
   "outputs": [],
   "source": [
    "def make_train(train_code):\n",
    "    return train_code\n",
    "\n",
    "def get_train_code(train):\n",
    "    return make_train(train)"
   ]
  },
  {
   "cell_type": "markdown",
   "metadata": {},
   "source": [
    "# Task 1c: Line ADT"
   ]
  },
  {
   "cell_type": "code",
   "execution_count": 1,
   "metadata": {},
   "outputs": [],
   "source": [
    "def make_line(name, stations):\n",
    "    return (name, stations)\n",
    "\n",
    "def get_line_name(line):\n",
    "    return line[0]\n",
    "\n",
    "def get_line_stations(line):\n",
    "    return line[1]\n",
    "\n",
    "def get_station_by_name(line, station_name):\n",
    "    stns = get_line_stations(line)\n",
    "    for i in stns:\n",
    "        if station_name == get_station_name(i):\n",
    "            return i\n",
    "    return None\n",
    "\n",
    "def get_station_by_code(line, station_code):\n",
    "    stns = get_line_stations(line)\n",
    "    for i in stns:\n",
    "        if station_code == get_station_code(i):\n",
    "            return i\n",
    "    return None\n",
    "\n",
    "def get_station_position(line, station_code):\n",
    "    stns = get_line_stations(line)\n",
    "    n = 0\n",
    "    for i in stns:\n",
    "        if station_code == get_station_code(i):\n",
    "            return n\n",
    "        n += 1\n",
    "    return -1"
   ]
  },
  {
   "cell_type": "markdown",
   "metadata": {},
   "source": [
    "## Task 1d: TrainPosition ADT"
   ]
  },
  {
   "cell_type": "code",
   "execution_count": null,
   "metadata": {},
   "outputs": [],
   "source": []
  }
 ],
 "metadata": {
  "kernelspec": {
   "display_name": "Python 3",
   "language": "python",
   "name": "python3"
  },
  "language_info": {
   "codemirror_mode": {
    "name": "ipython",
    "version": 3
   },
   "file_extension": ".py",
   "mimetype": "text/x-python",
   "name": "python",
   "nbconvert_exporter": "python",
   "pygments_lexer": "ipython3",
   "version": "3.11.5"
  },
  "orig_nbformat": 4
 },
 "nbformat": 4,
 "nbformat_minor": 2
}
